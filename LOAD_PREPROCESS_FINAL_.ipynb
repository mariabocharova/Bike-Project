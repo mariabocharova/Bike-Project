{
 "cells": [
  {
   "cell_type": "code",
   "execution_count": 6,
   "id": "b215cc07",
   "metadata": {},
   "outputs": [],
   "source": [
    "import pandas as pd\n",
    "import seaborn as sns\n",
    "import matplotlib as plt"
   ]
  },
  {
   "cell_type": "code",
   "execution_count": null,
   "id": "c8ac094f",
   "metadata": {},
   "outputs": [],
   "source": [
    "c = pd.read_csv('chicago_october_21')"
   ]
  },
  {
   "cell_type": "code",
   "execution_count": 14,
   "id": "61de964e",
   "metadata": {},
   "outputs": [
    {
     "data": {
      "text/html": [
       "<div>\n",
       "<style scoped>\n",
       "    .dataframe tbody tr th:only-of-type {\n",
       "        vertical-align: middle;\n",
       "    }\n",
       "\n",
       "    .dataframe tbody tr th {\n",
       "        vertical-align: top;\n",
       "    }\n",
       "\n",
       "    .dataframe thead th {\n",
       "        text-align: right;\n",
       "    }\n",
       "</style>\n",
       "<table border=\"1\" class=\"dataframe\">\n",
       "  <thead>\n",
       "    <tr style=\"text-align: right;\">\n",
       "      <th></th>\n",
       "      <th>rideable_type</th>\n",
       "      <th>started_at</th>\n",
       "      <th>ended_at</th>\n",
       "      <th>member_casual</th>\n",
       "    </tr>\n",
       "  </thead>\n",
       "  <tbody>\n",
       "    <tr>\n",
       "      <th>0</th>\n",
       "      <td>electric_bike</td>\n",
       "      <td>2021-12-07 15:06:07</td>\n",
       "      <td>2021-12-07 15:13:42</td>\n",
       "      <td>member</td>\n",
       "    </tr>\n",
       "    <tr>\n",
       "      <th>1</th>\n",
       "      <td>electric_bike</td>\n",
       "      <td>2021-12-11 03:43:29</td>\n",
       "      <td>2021-12-11 04:10:23</td>\n",
       "      <td>casual</td>\n",
       "    </tr>\n",
       "    <tr>\n",
       "      <th>2</th>\n",
       "      <td>electric_bike</td>\n",
       "      <td>2021-12-15 23:10:28</td>\n",
       "      <td>2021-12-15 23:23:14</td>\n",
       "      <td>member</td>\n",
       "    </tr>\n",
       "    <tr>\n",
       "      <th>3</th>\n",
       "      <td>classic_bike</td>\n",
       "      <td>2021-12-26 16:16:10</td>\n",
       "      <td>2021-12-26 16:30:53</td>\n",
       "      <td>member</td>\n",
       "    </tr>\n",
       "    <tr>\n",
       "      <th>4</th>\n",
       "      <td>electric_bike</td>\n",
       "      <td>2021-12-30 11:31:05</td>\n",
       "      <td>2021-12-30 11:51:21</td>\n",
       "      <td>member</td>\n",
       "    </tr>\n",
       "  </tbody>\n",
       "</table>\n",
       "</div>"
      ],
      "text/plain": [
       "   rideable_type           started_at             ended_at member_casual\n",
       "0  electric_bike  2021-12-07 15:06:07  2021-12-07 15:13:42        member\n",
       "1  electric_bike  2021-12-11 03:43:29  2021-12-11 04:10:23        casual\n",
       "2  electric_bike  2021-12-15 23:10:28  2021-12-15 23:23:14        member\n",
       "3   classic_bike  2021-12-26 16:16:10  2021-12-26 16:30:53        member\n",
       "4  electric_bike  2021-12-30 11:31:05  2021-12-30 11:51:21        member"
      ]
     },
     "execution_count": 14,
     "metadata": {},
     "output_type": "execute_result"
    }
   ],
   "source": [
    "c2.head(5)"
   ]
  },
  {
   "cell_type": "code",
   "execution_count": 17,
   "id": "4b1fc524",
   "metadata": {},
   "outputs": [],
   "source": [
    "c_renamed = c.rename(columns ={\"start_time\":\"started_at\",\"end_time\":\"ended_at\", \"usertype\":\"member_casual\"})"
   ]
  },
  {
   "cell_type": "code",
   "execution_count": 21,
   "id": "214f2a63",
   "metadata": {},
   "outputs": [
    {
     "data": {
      "text/html": [
       "<div>\n",
       "<style scoped>\n",
       "    .dataframe tbody tr th:only-of-type {\n",
       "        vertical-align: middle;\n",
       "    }\n",
       "\n",
       "    .dataframe tbody tr th {\n",
       "        vertical-align: top;\n",
       "    }\n",
       "\n",
       "    .dataframe thead th {\n",
       "        text-align: right;\n",
       "    }\n",
       "</style>\n",
       "<table border=\"1\" class=\"dataframe\">\n",
       "  <thead>\n",
       "    <tr style=\"text-align: right;\">\n",
       "      <th></th>\n",
       "      <th>started_at</th>\n",
       "      <th>ended_at</th>\n",
       "      <th>tripduration</th>\n",
       "      <th>member_casual</th>\n",
       "      <th>gender</th>\n",
       "      <th>birthyear</th>\n",
       "      <th>rideable_type</th>\n",
       "    </tr>\n",
       "  </thead>\n",
       "  <tbody>\n",
       "    <tr>\n",
       "      <th>0</th>\n",
       "      <td>2019-01-01 00:04:37</td>\n",
       "      <td>2019-01-01 00:11:07</td>\n",
       "      <td>390.0</td>\n",
       "      <td>Subscriber</td>\n",
       "      <td>Male</td>\n",
       "      <td>1989.0</td>\n",
       "      <td>NaN</td>\n",
       "    </tr>\n",
       "    <tr>\n",
       "      <th>1</th>\n",
       "      <td>2019-01-01 00:08:13</td>\n",
       "      <td>2019-01-01 00:15:34</td>\n",
       "      <td>441.0</td>\n",
       "      <td>Subscriber</td>\n",
       "      <td>Female</td>\n",
       "      <td>1990.0</td>\n",
       "      <td>NaN</td>\n",
       "    </tr>\n",
       "    <tr>\n",
       "      <th>2</th>\n",
       "      <td>2019-01-01 00:13:23</td>\n",
       "      <td>2019-01-01 00:27:12</td>\n",
       "      <td>829.0</td>\n",
       "      <td>Subscriber</td>\n",
       "      <td>Female</td>\n",
       "      <td>1994.0</td>\n",
       "      <td>NaN</td>\n",
       "    </tr>\n",
       "    <tr>\n",
       "      <th>3</th>\n",
       "      <td>2019-01-01 00:13:45</td>\n",
       "      <td>2019-01-01 00:43:28</td>\n",
       "      <td>1783.0</td>\n",
       "      <td>Subscriber</td>\n",
       "      <td>Male</td>\n",
       "      <td>1993.0</td>\n",
       "      <td>NaN</td>\n",
       "    </tr>\n",
       "    <tr>\n",
       "      <th>4</th>\n",
       "      <td>2019-01-01 00:14:52</td>\n",
       "      <td>2019-01-01 00:20:56</td>\n",
       "      <td>364.0</td>\n",
       "      <td>Subscriber</td>\n",
       "      <td>Male</td>\n",
       "      <td>1994.0</td>\n",
       "      <td>NaN</td>\n",
       "    </tr>\n",
       "  </tbody>\n",
       "</table>\n",
       "</div>"
      ],
      "text/plain": [
       "            started_at             ended_at  tripduration member_casual  \\\n",
       "0  2019-01-01 00:04:37  2019-01-01 00:11:07         390.0    Subscriber   \n",
       "1  2019-01-01 00:08:13  2019-01-01 00:15:34         441.0    Subscriber   \n",
       "2  2019-01-01 00:13:23  2019-01-01 00:27:12         829.0    Subscriber   \n",
       "3  2019-01-01 00:13:45  2019-01-01 00:43:28        1783.0    Subscriber   \n",
       "4  2019-01-01 00:14:52  2019-01-01 00:20:56         364.0    Subscriber   \n",
       "\n",
       "   gender  birthyear rideable_type  \n",
       "0    Male     1989.0           NaN  \n",
       "1  Female     1990.0           NaN  \n",
       "2  Female     1994.0           NaN  \n",
       "3    Male     1993.0           NaN  \n",
       "4    Male     1994.0           NaN  "
      ]
     },
     "execution_count": 21,
     "metadata": {},
     "output_type": "execute_result"
    }
   ],
   "source": [
    "frames = [c_renamed, c1, c2]\n",
    "chicago_data = pd.concat(frames)\n",
    "chicago_data.head(5)"
   ]
  },
  {
   "cell_type": "code",
   "execution_count": 26,
   "id": "a51841e2",
   "metadata": {},
   "outputs": [
    {
     "data": {
      "text/plain": [
       "10185321"
      ]
     },
     "execution_count": 26,
     "metadata": {},
     "output_type": "execute_result"
    }
   ],
   "source": [
    "len(chicago_data)"
   ]
  },
  {
   "cell_type": "code",
   "execution_count": 22,
   "id": "18066117",
   "metadata": {},
   "outputs": [],
   "source": [
    "chicago_data.to_csv(r'C:\\Users\\marii\\OneDrive\\Desktop\\SCHOOL\\CSE 696 Final Project\\Main Data\\chicago_data.csv', index = False)"
   ]
  },
  {
   "cell_type": "code",
   "execution_count": 5,
   "id": "fe06486e",
   "metadata": {},
   "outputs": [
    {
     "data": {
      "text/plain": [
       "start_time           0\n",
       "end_time             0\n",
       "tripduration         0\n",
       "usertype             0\n",
       "gender          125849\n",
       "birthyear       121358\n",
       "dtype: int64"
      ]
     },
     "execution_count": 5,
     "metadata": {},
     "output_type": "execute_result"
    }
   ],
   "source": [
    "per_mis = c.isna().sum()\n",
    "per_mis"
   ]
  },
  {
   "cell_type": "code",
   "execution_count": 6,
   "id": "84283097",
   "metadata": {
    "scrolled": true
   },
   "outputs": [
    {
     "data": {
      "text/plain": [
       "Male      709632\n",
       "Female    213094\n",
       "Name: gender, dtype: int64"
      ]
     },
     "execution_count": 6,
     "metadata": {},
     "output_type": "execute_result"
    }
   ],
   "source": [
    "c.gender.value_counts()"
   ]
  },
  {
   "cell_type": "code",
   "execution_count": 7,
   "id": "3b0e6bb3",
   "metadata": {},
   "outputs": [],
   "source": [
    "c1 = pd.read_csv('chi_2020_updated.csv')"
   ]
  },
  {
   "cell_type": "code",
   "execution_count": 9,
   "id": "e4b44c5b",
   "metadata": {
    "scrolled": true
   },
   "outputs": [
    {
     "data": {
      "text/plain": [
       "rideable_type    0\n",
       "started_at       0\n",
       "ended_at         0\n",
       "member_casual    0\n",
       "dtype: int64"
      ]
     },
     "execution_count": 9,
     "metadata": {},
     "output_type": "execute_result"
    }
   ],
   "source": [
    "per_mis1 = c1.isna().sum()\n",
    "per_mis1"
   ]
  },
  {
   "cell_type": "code",
   "execution_count": 10,
   "id": "f69834e3",
   "metadata": {},
   "outputs": [],
   "source": [
    "c2 = pd.read_csv('chi_2021_updated.csv')"
   ]
  },
  {
   "cell_type": "code",
   "execution_count": 11,
   "id": "4c4a1d41",
   "metadata": {},
   "outputs": [
    {
     "data": {
      "text/plain": [
       "rideable_type    0\n",
       "started_at       0\n",
       "ended_at         0\n",
       "member_casual    0\n",
       "dtype: int64"
      ]
     },
     "execution_count": 11,
     "metadata": {},
     "output_type": "execute_result"
    }
   ],
   "source": [
    "per_mis2 = c2.isna().sum()\n",
    "per_mis2"
   ]
  },
  {
   "cell_type": "code",
   "execution_count": 25,
   "id": "8ac96924",
   "metadata": {},
   "outputs": [],
   "source": [
    "import pandas as pd\n",
    "LA = pd.read_csv('LA_data_updated.csv')"
   ]
  },
  {
   "cell_type": "code",
   "execution_count": 26,
   "id": "d537a548",
   "metadata": {},
   "outputs": [],
   "source": [
    "LA_filtered = LA[LA['duration'] <= 200]\n"
   ]
  },
  {
   "cell_type": "code",
   "execution_count": 27,
   "id": "391213fa",
   "metadata": {},
   "outputs": [],
   "source": [
    "LA_filtered.to_csv(r'C:\\Users\\marii\\OneDrive\\Desktop\\SCHOOL\\CSE 696 Final Project\\Main Data\\LA_filtered.csv', index = False)"
   ]
  },
  {
   "cell_type": "code",
   "execution_count": 28,
   "id": "abede28b",
   "metadata": {},
   "outputs": [],
   "source": [
    "import random\n",
    "file = 'LA_filtered.csv'\n",
    "n = sum(1 for line in open(file)) - 1 #number of rows in a file if unknown\n",
    "s = 360000 #number of desired rows\n",
    "skip = sorted(random.sample(range(1,n+1),n-s))\n",
    "LA_filtered_reduced = pd.read_csv(file, skiprows=skip)"
   ]
  },
  {
   "cell_type": "code",
   "execution_count": 29,
   "id": "94bc716f",
   "metadata": {},
   "outputs": [],
   "source": [
    "LA_filtered_reduced['city'] = 'Los Angeles'"
   ]
  },
  {
   "cell_type": "code",
   "execution_count": 30,
   "id": "bb2d2201",
   "metadata": {},
   "outputs": [
    {
     "data": {
      "text/html": [
       "<div>\n",
       "<style scoped>\n",
       "    .dataframe tbody tr th:only-of-type {\n",
       "        vertical-align: middle;\n",
       "    }\n",
       "\n",
       "    .dataframe tbody tr th {\n",
       "        vertical-align: top;\n",
       "    }\n",
       "\n",
       "    .dataframe thead th {\n",
       "        text-align: right;\n",
       "    }\n",
       "</style>\n",
       "<table border=\"1\" class=\"dataframe\">\n",
       "  <thead>\n",
       "    <tr style=\"text-align: right;\">\n",
       "      <th></th>\n",
       "      <th>duration</th>\n",
       "      <th>start_time</th>\n",
       "      <th>end_time</th>\n",
       "      <th>plan_duration</th>\n",
       "      <th>usertype</th>\n",
       "      <th>bike_type</th>\n",
       "      <th>city</th>\n",
       "    </tr>\n",
       "  </thead>\n",
       "  <tbody>\n",
       "    <tr>\n",
       "      <th>0</th>\n",
       "      <td>32</td>\n",
       "      <td>1/1/2019 0:18</td>\n",
       "      <td>1/1/2019 0:50</td>\n",
       "      <td>1</td>\n",
       "      <td>Walk-up</td>\n",
       "      <td>standard</td>\n",
       "      <td>Los Angeles</td>\n",
       "    </tr>\n",
       "    <tr>\n",
       "      <th>1</th>\n",
       "      <td>30</td>\n",
       "      <td>1/1/2019 0:20</td>\n",
       "      <td>1/1/2019 0:50</td>\n",
       "      <td>1</td>\n",
       "      <td>Walk-up</td>\n",
       "      <td>standard</td>\n",
       "      <td>Los Angeles</td>\n",
       "    </tr>\n",
       "    <tr>\n",
       "      <th>2</th>\n",
       "      <td>28</td>\n",
       "      <td>1/1/2019 0:22</td>\n",
       "      <td>1/1/2019 0:50</td>\n",
       "      <td>1</td>\n",
       "      <td>Walk-up</td>\n",
       "      <td>standard</td>\n",
       "      <td>Los Angeles</td>\n",
       "    </tr>\n",
       "    <tr>\n",
       "      <th>3</th>\n",
       "      <td>27</td>\n",
       "      <td>1/1/2019 0:24</td>\n",
       "      <td>1/1/2019 0:51</td>\n",
       "      <td>1</td>\n",
       "      <td>Walk-up</td>\n",
       "      <td>standard</td>\n",
       "      <td>Los Angeles</td>\n",
       "    </tr>\n",
       "    <tr>\n",
       "      <th>4</th>\n",
       "      <td>7</td>\n",
       "      <td>1/1/2019 0:27</td>\n",
       "      <td>1/1/2019 0:34</td>\n",
       "      <td>1</td>\n",
       "      <td>Walk-up</td>\n",
       "      <td>standard</td>\n",
       "      <td>Los Angeles</td>\n",
       "    </tr>\n",
       "    <tr>\n",
       "      <th>...</th>\n",
       "      <td>...</td>\n",
       "      <td>...</td>\n",
       "      <td>...</td>\n",
       "      <td>...</td>\n",
       "      <td>...</td>\n",
       "      <td>...</td>\n",
       "      <td>...</td>\n",
       "    </tr>\n",
       "    <tr>\n",
       "      <th>359995</th>\n",
       "      <td>25</td>\n",
       "      <td>12/31/2021 23:03</td>\n",
       "      <td>12/31/2021 23:28</td>\n",
       "      <td>1</td>\n",
       "      <td>One Day Pass</td>\n",
       "      <td>standard</td>\n",
       "      <td>Los Angeles</td>\n",
       "    </tr>\n",
       "    <tr>\n",
       "      <th>359996</th>\n",
       "      <td>19</td>\n",
       "      <td>12/31/2021 23:29</td>\n",
       "      <td>12/31/2021 23:48</td>\n",
       "      <td>1</td>\n",
       "      <td>One Day Pass</td>\n",
       "      <td>standard</td>\n",
       "      <td>Los Angeles</td>\n",
       "    </tr>\n",
       "    <tr>\n",
       "      <th>359997</th>\n",
       "      <td>8</td>\n",
       "      <td>12/31/2021 23:40</td>\n",
       "      <td>12/31/2021 23:48</td>\n",
       "      <td>365</td>\n",
       "      <td>Annual Pass</td>\n",
       "      <td>standard</td>\n",
       "      <td>Los Angeles</td>\n",
       "    </tr>\n",
       "    <tr>\n",
       "      <th>359998</th>\n",
       "      <td>43</td>\n",
       "      <td>12/31/2021 23:47</td>\n",
       "      <td>1/1/2022 0:30</td>\n",
       "      <td>1</td>\n",
       "      <td>Walk-up</td>\n",
       "      <td>standard</td>\n",
       "      <td>Los Angeles</td>\n",
       "    </tr>\n",
       "    <tr>\n",
       "      <th>359999</th>\n",
       "      <td>42</td>\n",
       "      <td>12/31/2021 23:48</td>\n",
       "      <td>1/1/2022 0:30</td>\n",
       "      <td>1</td>\n",
       "      <td>Walk-up</td>\n",
       "      <td>standard</td>\n",
       "      <td>Los Angeles</td>\n",
       "    </tr>\n",
       "  </tbody>\n",
       "</table>\n",
       "<p>360000 rows × 7 columns</p>\n",
       "</div>"
      ],
      "text/plain": [
       "        duration        start_time          end_time  plan_duration  \\\n",
       "0             32     1/1/2019 0:18     1/1/2019 0:50              1   \n",
       "1             30     1/1/2019 0:20     1/1/2019 0:50              1   \n",
       "2             28     1/1/2019 0:22     1/1/2019 0:50              1   \n",
       "3             27     1/1/2019 0:24     1/1/2019 0:51              1   \n",
       "4              7     1/1/2019 0:27     1/1/2019 0:34              1   \n",
       "...          ...               ...               ...            ...   \n",
       "359995        25  12/31/2021 23:03  12/31/2021 23:28              1   \n",
       "359996        19  12/31/2021 23:29  12/31/2021 23:48              1   \n",
       "359997         8  12/31/2021 23:40  12/31/2021 23:48            365   \n",
       "359998        43  12/31/2021 23:47     1/1/2022 0:30              1   \n",
       "359999        42  12/31/2021 23:48     1/1/2022 0:30              1   \n",
       "\n",
       "            usertype bike_type         city  \n",
       "0            Walk-up  standard  Los Angeles  \n",
       "1            Walk-up  standard  Los Angeles  \n",
       "2            Walk-up  standard  Los Angeles  \n",
       "3            Walk-up  standard  Los Angeles  \n",
       "4            Walk-up  standard  Los Angeles  \n",
       "...              ...       ...          ...  \n",
       "359995  One Day Pass  standard  Los Angeles  \n",
       "359996  One Day Pass  standard  Los Angeles  \n",
       "359997   Annual Pass  standard  Los Angeles  \n",
       "359998       Walk-up  standard  Los Angeles  \n",
       "359999       Walk-up  standard  Los Angeles  \n",
       "\n",
       "[360000 rows x 7 columns]"
      ]
     },
     "execution_count": 30,
     "metadata": {},
     "output_type": "execute_result"
    }
   ],
   "source": [
    "LA_filtered_reduced"
   ]
  },
  {
   "cell_type": "code",
   "execution_count": 31,
   "id": "81cb845f",
   "metadata": {},
   "outputs": [],
   "source": [
    "LA_filtered_reduced.to_csv(r'C:\\Users\\marii\\OneDrive\\Desktop\\SCHOOL\\CSE 696 Final Project\\Main Data\\LA_filtered_reduced_updated.csv', index = False)"
   ]
  },
  {
   "cell_type": "code",
   "execution_count": 7,
   "id": "9ebcf203",
   "metadata": {},
   "outputs": [
    {
     "ename": "FileNotFoundError",
     "evalue": "[Errno 2] No such file or directory: 'boston_data_reduced.csv'",
     "output_type": "error",
     "traceback": [
      "\u001b[1;31m---------------------------------------------------------------------------\u001b[0m",
      "\u001b[1;31mFileNotFoundError\u001b[0m                         Traceback (most recent call last)",
      "\u001b[1;32m~\\AppData\\Local\\Temp/ipykernel_23900/698086926.py\u001b[0m in \u001b[0;36m<module>\u001b[1;34m\u001b[0m\n\u001b[1;32m----> 1\u001b[1;33m \u001b[0mboston\u001b[0m \u001b[1;33m=\u001b[0m \u001b[0mpd\u001b[0m\u001b[1;33m.\u001b[0m\u001b[0mread_csv\u001b[0m\u001b[1;33m(\u001b[0m\u001b[1;34m'boston_data_reduced.csv'\u001b[0m\u001b[1;33m,\u001b[0m \u001b[0mlow_memory\u001b[0m \u001b[1;33m=\u001b[0m \u001b[1;32mFalse\u001b[0m\u001b[1;33m)\u001b[0m\u001b[1;33m\u001b[0m\u001b[1;33m\u001b[0m\u001b[0m\n\u001b[0m",
      "\u001b[1;32m~\\anaconda3\\lib\\site-packages\\pandas\\util\\_decorators.py\u001b[0m in \u001b[0;36mwrapper\u001b[1;34m(*args, **kwargs)\u001b[0m\n\u001b[0;32m    309\u001b[0m                     \u001b[0mstacklevel\u001b[0m\u001b[1;33m=\u001b[0m\u001b[0mstacklevel\u001b[0m\u001b[1;33m,\u001b[0m\u001b[1;33m\u001b[0m\u001b[1;33m\u001b[0m\u001b[0m\n\u001b[0;32m    310\u001b[0m                 )\n\u001b[1;32m--> 311\u001b[1;33m             \u001b[1;32mreturn\u001b[0m \u001b[0mfunc\u001b[0m\u001b[1;33m(\u001b[0m\u001b[1;33m*\u001b[0m\u001b[0margs\u001b[0m\u001b[1;33m,\u001b[0m \u001b[1;33m**\u001b[0m\u001b[0mkwargs\u001b[0m\u001b[1;33m)\u001b[0m\u001b[1;33m\u001b[0m\u001b[1;33m\u001b[0m\u001b[0m\n\u001b[0m\u001b[0;32m    312\u001b[0m \u001b[1;33m\u001b[0m\u001b[0m\n\u001b[0;32m    313\u001b[0m         \u001b[1;32mreturn\u001b[0m \u001b[0mwrapper\u001b[0m\u001b[1;33m\u001b[0m\u001b[1;33m\u001b[0m\u001b[0m\n",
      "\u001b[1;32m~\\anaconda3\\lib\\site-packages\\pandas\\io\\parsers\\readers.py\u001b[0m in \u001b[0;36mread_csv\u001b[1;34m(filepath_or_buffer, sep, delimiter, header, names, index_col, usecols, squeeze, prefix, mangle_dupe_cols, dtype, engine, converters, true_values, false_values, skipinitialspace, skiprows, skipfooter, nrows, na_values, keep_default_na, na_filter, verbose, skip_blank_lines, parse_dates, infer_datetime_format, keep_date_col, date_parser, dayfirst, cache_dates, iterator, chunksize, compression, thousands, decimal, lineterminator, quotechar, quoting, doublequote, escapechar, comment, encoding, encoding_errors, dialect, error_bad_lines, warn_bad_lines, on_bad_lines, delim_whitespace, low_memory, memory_map, float_precision, storage_options)\u001b[0m\n\u001b[0;32m    584\u001b[0m     \u001b[0mkwds\u001b[0m\u001b[1;33m.\u001b[0m\u001b[0mupdate\u001b[0m\u001b[1;33m(\u001b[0m\u001b[0mkwds_defaults\u001b[0m\u001b[1;33m)\u001b[0m\u001b[1;33m\u001b[0m\u001b[1;33m\u001b[0m\u001b[0m\n\u001b[0;32m    585\u001b[0m \u001b[1;33m\u001b[0m\u001b[0m\n\u001b[1;32m--> 586\u001b[1;33m     \u001b[1;32mreturn\u001b[0m \u001b[0m_read\u001b[0m\u001b[1;33m(\u001b[0m\u001b[0mfilepath_or_buffer\u001b[0m\u001b[1;33m,\u001b[0m \u001b[0mkwds\u001b[0m\u001b[1;33m)\u001b[0m\u001b[1;33m\u001b[0m\u001b[1;33m\u001b[0m\u001b[0m\n\u001b[0m\u001b[0;32m    587\u001b[0m \u001b[1;33m\u001b[0m\u001b[0m\n\u001b[0;32m    588\u001b[0m \u001b[1;33m\u001b[0m\u001b[0m\n",
      "\u001b[1;32m~\\anaconda3\\lib\\site-packages\\pandas\\io\\parsers\\readers.py\u001b[0m in \u001b[0;36m_read\u001b[1;34m(filepath_or_buffer, kwds)\u001b[0m\n\u001b[0;32m    480\u001b[0m \u001b[1;33m\u001b[0m\u001b[0m\n\u001b[0;32m    481\u001b[0m     \u001b[1;31m# Create the parser.\u001b[0m\u001b[1;33m\u001b[0m\u001b[1;33m\u001b[0m\u001b[0m\n\u001b[1;32m--> 482\u001b[1;33m     \u001b[0mparser\u001b[0m \u001b[1;33m=\u001b[0m \u001b[0mTextFileReader\u001b[0m\u001b[1;33m(\u001b[0m\u001b[0mfilepath_or_buffer\u001b[0m\u001b[1;33m,\u001b[0m \u001b[1;33m**\u001b[0m\u001b[0mkwds\u001b[0m\u001b[1;33m)\u001b[0m\u001b[1;33m\u001b[0m\u001b[1;33m\u001b[0m\u001b[0m\n\u001b[0m\u001b[0;32m    483\u001b[0m \u001b[1;33m\u001b[0m\u001b[0m\n\u001b[0;32m    484\u001b[0m     \u001b[1;32mif\u001b[0m \u001b[0mchunksize\u001b[0m \u001b[1;32mor\u001b[0m \u001b[0miterator\u001b[0m\u001b[1;33m:\u001b[0m\u001b[1;33m\u001b[0m\u001b[1;33m\u001b[0m\u001b[0m\n",
      "\u001b[1;32m~\\anaconda3\\lib\\site-packages\\pandas\\io\\parsers\\readers.py\u001b[0m in \u001b[0;36m__init__\u001b[1;34m(self, f, engine, **kwds)\u001b[0m\n\u001b[0;32m    809\u001b[0m             \u001b[0mself\u001b[0m\u001b[1;33m.\u001b[0m\u001b[0moptions\u001b[0m\u001b[1;33m[\u001b[0m\u001b[1;34m\"has_index_names\"\u001b[0m\u001b[1;33m]\u001b[0m \u001b[1;33m=\u001b[0m \u001b[0mkwds\u001b[0m\u001b[1;33m[\u001b[0m\u001b[1;34m\"has_index_names\"\u001b[0m\u001b[1;33m]\u001b[0m\u001b[1;33m\u001b[0m\u001b[1;33m\u001b[0m\u001b[0m\n\u001b[0;32m    810\u001b[0m \u001b[1;33m\u001b[0m\u001b[0m\n\u001b[1;32m--> 811\u001b[1;33m         \u001b[0mself\u001b[0m\u001b[1;33m.\u001b[0m\u001b[0m_engine\u001b[0m \u001b[1;33m=\u001b[0m \u001b[0mself\u001b[0m\u001b[1;33m.\u001b[0m\u001b[0m_make_engine\u001b[0m\u001b[1;33m(\u001b[0m\u001b[0mself\u001b[0m\u001b[1;33m.\u001b[0m\u001b[0mengine\u001b[0m\u001b[1;33m)\u001b[0m\u001b[1;33m\u001b[0m\u001b[1;33m\u001b[0m\u001b[0m\n\u001b[0m\u001b[0;32m    812\u001b[0m \u001b[1;33m\u001b[0m\u001b[0m\n\u001b[0;32m    813\u001b[0m     \u001b[1;32mdef\u001b[0m \u001b[0mclose\u001b[0m\u001b[1;33m(\u001b[0m\u001b[0mself\u001b[0m\u001b[1;33m)\u001b[0m\u001b[1;33m:\u001b[0m\u001b[1;33m\u001b[0m\u001b[1;33m\u001b[0m\u001b[0m\n",
      "\u001b[1;32m~\\anaconda3\\lib\\site-packages\\pandas\\io\\parsers\\readers.py\u001b[0m in \u001b[0;36m_make_engine\u001b[1;34m(self, engine)\u001b[0m\n\u001b[0;32m   1038\u001b[0m             )\n\u001b[0;32m   1039\u001b[0m         \u001b[1;31m# error: Too many arguments for \"ParserBase\"\u001b[0m\u001b[1;33m\u001b[0m\u001b[1;33m\u001b[0m\u001b[0m\n\u001b[1;32m-> 1040\u001b[1;33m         \u001b[1;32mreturn\u001b[0m \u001b[0mmapping\u001b[0m\u001b[1;33m[\u001b[0m\u001b[0mengine\u001b[0m\u001b[1;33m]\u001b[0m\u001b[1;33m(\u001b[0m\u001b[0mself\u001b[0m\u001b[1;33m.\u001b[0m\u001b[0mf\u001b[0m\u001b[1;33m,\u001b[0m \u001b[1;33m**\u001b[0m\u001b[0mself\u001b[0m\u001b[1;33m.\u001b[0m\u001b[0moptions\u001b[0m\u001b[1;33m)\u001b[0m  \u001b[1;31m# type: ignore[call-arg]\u001b[0m\u001b[1;33m\u001b[0m\u001b[1;33m\u001b[0m\u001b[0m\n\u001b[0m\u001b[0;32m   1041\u001b[0m \u001b[1;33m\u001b[0m\u001b[0m\n\u001b[0;32m   1042\u001b[0m     \u001b[1;32mdef\u001b[0m \u001b[0m_failover_to_python\u001b[0m\u001b[1;33m(\u001b[0m\u001b[0mself\u001b[0m\u001b[1;33m)\u001b[0m\u001b[1;33m:\u001b[0m\u001b[1;33m\u001b[0m\u001b[1;33m\u001b[0m\u001b[0m\n",
      "\u001b[1;32m~\\anaconda3\\lib\\site-packages\\pandas\\io\\parsers\\c_parser_wrapper.py\u001b[0m in \u001b[0;36m__init__\u001b[1;34m(self, src, **kwds)\u001b[0m\n\u001b[0;32m     49\u001b[0m \u001b[1;33m\u001b[0m\u001b[0m\n\u001b[0;32m     50\u001b[0m         \u001b[1;31m# open handles\u001b[0m\u001b[1;33m\u001b[0m\u001b[1;33m\u001b[0m\u001b[0m\n\u001b[1;32m---> 51\u001b[1;33m         \u001b[0mself\u001b[0m\u001b[1;33m.\u001b[0m\u001b[0m_open_handles\u001b[0m\u001b[1;33m(\u001b[0m\u001b[0msrc\u001b[0m\u001b[1;33m,\u001b[0m \u001b[0mkwds\u001b[0m\u001b[1;33m)\u001b[0m\u001b[1;33m\u001b[0m\u001b[1;33m\u001b[0m\u001b[0m\n\u001b[0m\u001b[0;32m     52\u001b[0m         \u001b[1;32massert\u001b[0m \u001b[0mself\u001b[0m\u001b[1;33m.\u001b[0m\u001b[0mhandles\u001b[0m \u001b[1;32mis\u001b[0m \u001b[1;32mnot\u001b[0m \u001b[1;32mNone\u001b[0m\u001b[1;33m\u001b[0m\u001b[1;33m\u001b[0m\u001b[0m\n\u001b[0;32m     53\u001b[0m \u001b[1;33m\u001b[0m\u001b[0m\n",
      "\u001b[1;32m~\\anaconda3\\lib\\site-packages\\pandas\\io\\parsers\\base_parser.py\u001b[0m in \u001b[0;36m_open_handles\u001b[1;34m(self, src, kwds)\u001b[0m\n\u001b[0;32m    220\u001b[0m         \u001b[0mLet\u001b[0m \u001b[0mthe\u001b[0m \u001b[0mreaders\u001b[0m \u001b[0mopen\u001b[0m \u001b[0mIOHandles\u001b[0m \u001b[0mafter\u001b[0m \u001b[0mthey\u001b[0m \u001b[0mare\u001b[0m \u001b[0mdone\u001b[0m \u001b[1;32mwith\u001b[0m \u001b[0mtheir\u001b[0m \u001b[0mpotential\u001b[0m \u001b[0mraises\u001b[0m\u001b[1;33m.\u001b[0m\u001b[1;33m\u001b[0m\u001b[1;33m\u001b[0m\u001b[0m\n\u001b[0;32m    221\u001b[0m         \"\"\"\n\u001b[1;32m--> 222\u001b[1;33m         self.handles = get_handle(\n\u001b[0m\u001b[0;32m    223\u001b[0m             \u001b[0msrc\u001b[0m\u001b[1;33m,\u001b[0m\u001b[1;33m\u001b[0m\u001b[1;33m\u001b[0m\u001b[0m\n\u001b[0;32m    224\u001b[0m             \u001b[1;34m\"r\"\u001b[0m\u001b[1;33m,\u001b[0m\u001b[1;33m\u001b[0m\u001b[1;33m\u001b[0m\u001b[0m\n",
      "\u001b[1;32m~\\anaconda3\\lib\\site-packages\\pandas\\io\\common.py\u001b[0m in \u001b[0;36mget_handle\u001b[1;34m(path_or_buf, mode, encoding, compression, memory_map, is_text, errors, storage_options)\u001b[0m\n\u001b[0;32m    700\u001b[0m         \u001b[1;32mif\u001b[0m \u001b[0mioargs\u001b[0m\u001b[1;33m.\u001b[0m\u001b[0mencoding\u001b[0m \u001b[1;32mand\u001b[0m \u001b[1;34m\"b\"\u001b[0m \u001b[1;32mnot\u001b[0m \u001b[1;32min\u001b[0m \u001b[0mioargs\u001b[0m\u001b[1;33m.\u001b[0m\u001b[0mmode\u001b[0m\u001b[1;33m:\u001b[0m\u001b[1;33m\u001b[0m\u001b[1;33m\u001b[0m\u001b[0m\n\u001b[0;32m    701\u001b[0m             \u001b[1;31m# Encoding\u001b[0m\u001b[1;33m\u001b[0m\u001b[1;33m\u001b[0m\u001b[0m\n\u001b[1;32m--> 702\u001b[1;33m             handle = open(\n\u001b[0m\u001b[0;32m    703\u001b[0m                 \u001b[0mhandle\u001b[0m\u001b[1;33m,\u001b[0m\u001b[1;33m\u001b[0m\u001b[1;33m\u001b[0m\u001b[0m\n\u001b[0;32m    704\u001b[0m                 \u001b[0mioargs\u001b[0m\u001b[1;33m.\u001b[0m\u001b[0mmode\u001b[0m\u001b[1;33m,\u001b[0m\u001b[1;33m\u001b[0m\u001b[1;33m\u001b[0m\u001b[0m\n",
      "\u001b[1;31mFileNotFoundError\u001b[0m: [Errno 2] No such file or directory: 'boston_data_reduced.csv'"
     ]
    }
   ],
   "source": [
    "boston = pd.read_csv('boston_data_reduced.csv', low_memory = False)"
   ]
  },
  {
   "cell_type": "code",
   "execution_count": 32,
   "id": "ec7c2fc9",
   "metadata": {},
   "outputs": [],
   "source": [
    "boston['city'] = 'Boston'"
   ]
  },
  {
   "cell_type": "code",
   "execution_count": 34,
   "id": "3f8c095c",
   "metadata": {},
   "outputs": [],
   "source": [
    "boston = boston.drop(columns=['start station id','start station name','start station latitude','start station longitude','end station id','end station name','end station latitude','end station longitude', 'bikeid','postal code'])"
   ]
  },
  {
   "cell_type": "code",
   "execution_count": 5,
   "id": "858e67b7",
   "metadata": {
    "scrolled": true
   },
   "outputs": [
    {
     "ename": "NameError",
     "evalue": "name 'boston' is not defined",
     "output_type": "error",
     "traceback": [
      "\u001b[1;31m---------------------------------------------------------------------------\u001b[0m",
      "\u001b[1;31mNameError\u001b[0m                                 Traceback (most recent call last)",
      "\u001b[1;32m~\\AppData\\Local\\Temp/ipykernel_23900/3410059475.py\u001b[0m in \u001b[0;36m<module>\u001b[1;34m\u001b[0m\n\u001b[1;32m----> 1\u001b[1;33m \u001b[0mboston\u001b[0m\u001b[1;33m.\u001b[0m\u001b[0mto_csv\u001b[0m\u001b[1;33m(\u001b[0m\u001b[1;34mr'C:\\Users\\marii\\OneDrive\\Desktop\\SCHOOL\\CSE 696 Final Project\\Main Data\\boston_reduced.csv'\u001b[0m\u001b[1;33m,\u001b[0m\u001b[0mindex\u001b[0m \u001b[1;33m=\u001b[0m \u001b[1;32mFalse\u001b[0m\u001b[1;33m)\u001b[0m\u001b[1;33m\u001b[0m\u001b[1;33m\u001b[0m\u001b[0m\n\u001b[0m",
      "\u001b[1;31mNameError\u001b[0m: name 'boston' is not defined"
     ]
    }
   ],
   "source": [
    "boston.to_csv(r'C:\\Users\\marii\\OneDrive\\Desktop\\SCHOOL\\CSE 696 Final Project\\Main Data\\boston_reduced.csv',index = False)"
   ]
  },
  {
   "cell_type": "code",
   "execution_count": 3,
   "id": "acbe915b",
   "metadata": {},
   "outputs": [],
   "source": [
    "import pandas as pd\n",
    "austin  = pd.read_csv('Austin_data_updated.csv', low_memory = False)"
   ]
  },
  {
   "cell_type": "code",
   "execution_count": 24,
   "id": "c80b95e2",
   "metadata": {},
   "outputs": [],
   "source": [
    "boston = pd.read_csv('boston_reduced.csv')"
   ]
  },
  {
   "cell_type": "code",
   "execution_count": 28,
   "id": "42509311",
   "metadata": {
    "scrolled": true
   },
   "outputs": [
    {
     "data": {
      "text/plain": [
       "array(['Subscriber', 'Customer'], dtype=object)"
      ]
     },
     "execution_count": 28,
     "metadata": {},
     "output_type": "execute_result"
    }
   ],
   "source": [
    "boston.usertype.unique()"
   ]
  },
  {
   "cell_type": "code",
   "execution_count": 40,
   "id": "431e8516",
   "metadata": {},
   "outputs": [],
   "source": [
    "LA['usertype'] = LA['usertype'].replace(['Monthly Pass','Annual Pass', 'Testing', 'Flex Pass'],'Subscriber')"
   ]
  },
  {
   "cell_type": "code",
   "execution_count": 41,
   "id": "99883571",
   "metadata": {},
   "outputs": [],
   "source": [
    "LA['usertype'] = LA['usertype'].replace(['Walk-up','One Day Pass'],'Customer')"
   ]
  },
  {
   "cell_type": "code",
   "execution_count": 42,
   "id": "112c63d3",
   "metadata": {
    "scrolled": true
   },
   "outputs": [
    {
     "data": {
      "text/html": [
       "<div>\n",
       "<style scoped>\n",
       "    .dataframe tbody tr th:only-of-type {\n",
       "        vertical-align: middle;\n",
       "    }\n",
       "\n",
       "    .dataframe tbody tr th {\n",
       "        vertical-align: top;\n",
       "    }\n",
       "\n",
       "    .dataframe thead th {\n",
       "        text-align: right;\n",
       "    }\n",
       "</style>\n",
       "<table border=\"1\" class=\"dataframe\">\n",
       "  <thead>\n",
       "    <tr style=\"text-align: right;\">\n",
       "      <th></th>\n",
       "      <th>duration</th>\n",
       "      <th>start_time</th>\n",
       "      <th>end_time</th>\n",
       "      <th>plan_duration</th>\n",
       "      <th>usertype</th>\n",
       "      <th>bike_type</th>\n",
       "      <th>city</th>\n",
       "      <th>Date</th>\n",
       "    </tr>\n",
       "  </thead>\n",
       "  <tbody>\n",
       "    <tr>\n",
       "      <th>0</th>\n",
       "      <td>32</td>\n",
       "      <td>1/1/2019</td>\n",
       "      <td>1/1/2019 0:50</td>\n",
       "      <td>1</td>\n",
       "      <td>Customer</td>\n",
       "      <td>standard</td>\n",
       "      <td>Los Angeles</td>\n",
       "      <td>1/1/2019</td>\n",
       "    </tr>\n",
       "    <tr>\n",
       "      <th>1</th>\n",
       "      <td>30</td>\n",
       "      <td>1/1/2019</td>\n",
       "      <td>1/1/2019 0:50</td>\n",
       "      <td>1</td>\n",
       "      <td>Customer</td>\n",
       "      <td>standard</td>\n",
       "      <td>Los Angeles</td>\n",
       "      <td>1/1/2019</td>\n",
       "    </tr>\n",
       "    <tr>\n",
       "      <th>2</th>\n",
       "      <td>28</td>\n",
       "      <td>1/1/2019</td>\n",
       "      <td>1/1/2019 0:50</td>\n",
       "      <td>1</td>\n",
       "      <td>Customer</td>\n",
       "      <td>standard</td>\n",
       "      <td>Los Angeles</td>\n",
       "      <td>1/1/2019</td>\n",
       "    </tr>\n",
       "    <tr>\n",
       "      <th>3</th>\n",
       "      <td>27</td>\n",
       "      <td>1/1/2019</td>\n",
       "      <td>1/1/2019 0:51</td>\n",
       "      <td>1</td>\n",
       "      <td>Customer</td>\n",
       "      <td>standard</td>\n",
       "      <td>Los Angeles</td>\n",
       "      <td>1/1/2019</td>\n",
       "    </tr>\n",
       "    <tr>\n",
       "      <th>4</th>\n",
       "      <td>7</td>\n",
       "      <td>1/1/2019</td>\n",
       "      <td>1/1/2019 0:34</td>\n",
       "      <td>1</td>\n",
       "      <td>Customer</td>\n",
       "      <td>standard</td>\n",
       "      <td>Los Angeles</td>\n",
       "      <td>1/1/2019</td>\n",
       "    </tr>\n",
       "  </tbody>\n",
       "</table>\n",
       "</div>"
      ],
      "text/plain": [
       "   duration start_time       end_time  plan_duration  usertype bike_type  \\\n",
       "0        32   1/1/2019  1/1/2019 0:50              1  Customer  standard   \n",
       "1        30   1/1/2019  1/1/2019 0:50              1  Customer  standard   \n",
       "2        28   1/1/2019  1/1/2019 0:50              1  Customer  standard   \n",
       "3        27   1/1/2019  1/1/2019 0:51              1  Customer  standard   \n",
       "4         7   1/1/2019  1/1/2019 0:34              1  Customer  standard   \n",
       "\n",
       "          city      Date  \n",
       "0  Los Angeles  1/1/2019  \n",
       "1  Los Angeles  1/1/2019  \n",
       "2  Los Angeles  1/1/2019  \n",
       "3  Los Angeles  1/1/2019  \n",
       "4  Los Angeles  1/1/2019  "
      ]
     },
     "execution_count": 42,
     "metadata": {},
     "output_type": "execute_result"
    }
   ],
   "source": [
    "LA.head(5)"
   ]
  },
  {
   "cell_type": "code",
   "execution_count": 43,
   "id": "87f42027",
   "metadata": {},
   "outputs": [],
   "source": [
    "LA.to_csv(r'C:\\Users\\marii\\OneDrive\\Desktop\\SCHOOL\\CSE 696 Final Project\\Main Data\\LA_updated.csv',index = False)"
   ]
  },
  {
   "cell_type": "code",
   "execution_count": 35,
   "id": "5b52d462",
   "metadata": {},
   "outputs": [
    {
     "data": {
      "text/plain": [
       "Subscriber    220165\n",
       "Customer      137280\n",
       "Name: usertype, dtype: int64"
      ]
     },
     "execution_count": 35,
     "metadata": {},
     "output_type": "execute_result"
    }
   ],
   "source": [
    "LA.usertype.value_counts()"
   ]
  },
  {
   "cell_type": "code",
   "execution_count": 26,
   "id": "169e7da1",
   "metadata": {},
   "outputs": [],
   "source": [
    "boston['tripduration'] = boston['tripduration'].div(60).round()"
   ]
  },
  {
   "cell_type": "code",
   "execution_count": 27,
   "id": "a0ec5f50",
   "metadata": {},
   "outputs": [],
   "source": [
    "boston.to_csv(r'C:\\Users\\marii\\OneDrive\\Desktop\\SCHOOL\\CSE 696 Final Project\\Main Data\\boston_updated.csv',index = False)"
   ]
  },
  {
   "cell_type": "code",
   "execution_count": 38,
   "id": "14b8d2f8",
   "metadata": {},
   "outputs": [],
   "source": [
    "LA = pd.read_csv('LA_filtered_reduced_updated.csv')"
   ]
  },
  {
   "cell_type": "code",
   "execution_count": 39,
   "id": "976e72a0",
   "metadata": {},
   "outputs": [
    {
     "data": {
      "text/html": [
       "<div>\n",
       "<style scoped>\n",
       "    .dataframe tbody tr th:only-of-type {\n",
       "        vertical-align: middle;\n",
       "    }\n",
       "\n",
       "    .dataframe tbody tr th {\n",
       "        vertical-align: top;\n",
       "    }\n",
       "\n",
       "    .dataframe thead th {\n",
       "        text-align: right;\n",
       "    }\n",
       "</style>\n",
       "<table border=\"1\" class=\"dataframe\">\n",
       "  <thead>\n",
       "    <tr style=\"text-align: right;\">\n",
       "      <th></th>\n",
       "      <th>duration</th>\n",
       "      <th>start_time</th>\n",
       "      <th>end_time</th>\n",
       "      <th>plan_duration</th>\n",
       "      <th>usertype</th>\n",
       "      <th>bike_type</th>\n",
       "      <th>city</th>\n",
       "      <th>Date</th>\n",
       "    </tr>\n",
       "  </thead>\n",
       "  <tbody>\n",
       "    <tr>\n",
       "      <th>0</th>\n",
       "      <td>32</td>\n",
       "      <td>1/1/2019</td>\n",
       "      <td>1/1/2019 0:50</td>\n",
       "      <td>1</td>\n",
       "      <td>Walk-up</td>\n",
       "      <td>standard</td>\n",
       "      <td>Los Angeles</td>\n",
       "      <td>1/1/2019</td>\n",
       "    </tr>\n",
       "    <tr>\n",
       "      <th>1</th>\n",
       "      <td>30</td>\n",
       "      <td>1/1/2019</td>\n",
       "      <td>1/1/2019 0:50</td>\n",
       "      <td>1</td>\n",
       "      <td>Walk-up</td>\n",
       "      <td>standard</td>\n",
       "      <td>Los Angeles</td>\n",
       "      <td>1/1/2019</td>\n",
       "    </tr>\n",
       "    <tr>\n",
       "      <th>2</th>\n",
       "      <td>28</td>\n",
       "      <td>1/1/2019</td>\n",
       "      <td>1/1/2019 0:50</td>\n",
       "      <td>1</td>\n",
       "      <td>Walk-up</td>\n",
       "      <td>standard</td>\n",
       "      <td>Los Angeles</td>\n",
       "      <td>1/1/2019</td>\n",
       "    </tr>\n",
       "    <tr>\n",
       "      <th>3</th>\n",
       "      <td>27</td>\n",
       "      <td>1/1/2019</td>\n",
       "      <td>1/1/2019 0:51</td>\n",
       "      <td>1</td>\n",
       "      <td>Walk-up</td>\n",
       "      <td>standard</td>\n",
       "      <td>Los Angeles</td>\n",
       "      <td>1/1/2019</td>\n",
       "    </tr>\n",
       "    <tr>\n",
       "      <th>4</th>\n",
       "      <td>7</td>\n",
       "      <td>1/1/2019</td>\n",
       "      <td>1/1/2019 0:34</td>\n",
       "      <td>1</td>\n",
       "      <td>Walk-up</td>\n",
       "      <td>standard</td>\n",
       "      <td>Los Angeles</td>\n",
       "      <td>1/1/2019</td>\n",
       "    </tr>\n",
       "  </tbody>\n",
       "</table>\n",
       "</div>"
      ],
      "text/plain": [
       "   duration start_time       end_time  plan_duration usertype bike_type  \\\n",
       "0        32   1/1/2019  1/1/2019 0:50              1  Walk-up  standard   \n",
       "1        30   1/1/2019  1/1/2019 0:50              1  Walk-up  standard   \n",
       "2        28   1/1/2019  1/1/2019 0:50              1  Walk-up  standard   \n",
       "3        27   1/1/2019  1/1/2019 0:51              1  Walk-up  standard   \n",
       "4         7   1/1/2019  1/1/2019 0:34              1  Walk-up  standard   \n",
       "\n",
       "          city      Date  \n",
       "0  Los Angeles  1/1/2019  \n",
       "1  Los Angeles  1/1/2019  \n",
       "2  Los Angeles  1/1/2019  \n",
       "3  Los Angeles  1/1/2019  \n",
       "4  Los Angeles  1/1/2019  "
      ]
     },
     "execution_count": 39,
     "metadata": {},
     "output_type": "execute_result"
    }
   ],
   "source": [
    "LA.head(5)"
   ]
  },
  {
   "cell_type": "code",
   "execution_count": 5,
   "id": "764a187e",
   "metadata": {},
   "outputs": [],
   "source": [
    "austin['city'] = 'Austin'"
   ]
  },
  {
   "cell_type": "code",
   "execution_count": 57,
   "id": "37b5f020",
   "metadata": {},
   "outputs": [
    {
     "data": {
      "text/html": [
       "<div>\n",
       "<style scoped>\n",
       "    .dataframe tbody tr th:only-of-type {\n",
       "        vertical-align: middle;\n",
       "    }\n",
       "\n",
       "    .dataframe tbody tr th {\n",
       "        vertical-align: top;\n",
       "    }\n",
       "\n",
       "    .dataframe thead th {\n",
       "        text-align: right;\n",
       "    }\n",
       "</style>\n",
       "<table border=\"1\" class=\"dataframe\">\n",
       "  <thead>\n",
       "    <tr style=\"text-align: right;\">\n",
       "      <th></th>\n",
       "      <th>usertype</th>\n",
       "      <th>Checkout Date</th>\n",
       "      <th>Checkout Time</th>\n",
       "      <th>Trip Duration Minutes</th>\n",
       "      <th>start_time</th>\n",
       "      <th>city</th>\n",
       "      <th>usetype</th>\n",
       "    </tr>\n",
       "  </thead>\n",
       "  <tbody>\n",
       "    <tr>\n",
       "      <th>0</th>\n",
       "      <td>Subscriber</td>\n",
       "      <td>1/1/2019</td>\n",
       "      <td>15:44:27</td>\n",
       "      <td>6</td>\n",
       "      <td>1/1/2019 15:44</td>\n",
       "      <td>Austin</td>\n",
       "      <td>Subscriber</td>\n",
       "    </tr>\n",
       "    <tr>\n",
       "      <th>1</th>\n",
       "      <td>Subscriber</td>\n",
       "      <td>1/1/2019</td>\n",
       "      <td>16:09:50</td>\n",
       "      <td>6</td>\n",
       "      <td>1/1/2019 16:09</td>\n",
       "      <td>Austin</td>\n",
       "      <td>Subscriber</td>\n",
       "    </tr>\n",
       "    <tr>\n",
       "      <th>2</th>\n",
       "      <td>Subscriber</td>\n",
       "      <td>1/1/2019</td>\n",
       "      <td>2:16:20</td>\n",
       "      <td>6</td>\n",
       "      <td>1/1/2019 2:16</td>\n",
       "      <td>Austin</td>\n",
       "      <td>Subscriber</td>\n",
       "    </tr>\n",
       "    <tr>\n",
       "      <th>3</th>\n",
       "      <td>Subscriber</td>\n",
       "      <td>1/1/2019</td>\n",
       "      <td>13:33:03</td>\n",
       "      <td>6</td>\n",
       "      <td>1/1/2019 13:33</td>\n",
       "      <td>Austin</td>\n",
       "      <td>Subscriber</td>\n",
       "    </tr>\n",
       "    <tr>\n",
       "      <th>4</th>\n",
       "      <td>Subscriber</td>\n",
       "      <td>1/1/2019</td>\n",
       "      <td>14:24:02</td>\n",
       "      <td>6</td>\n",
       "      <td>1/1/2019 14:24</td>\n",
       "      <td>Austin</td>\n",
       "      <td>Subscriber</td>\n",
       "    </tr>\n",
       "  </tbody>\n",
       "</table>\n",
       "</div>"
      ],
      "text/plain": [
       "     usertype Checkout Date Checkout Time  Trip Duration Minutes  \\\n",
       "0  Subscriber      1/1/2019      15:44:27                      6   \n",
       "1  Subscriber      1/1/2019      16:09:50                      6   \n",
       "2  Subscriber      1/1/2019       2:16:20                      6   \n",
       "3  Subscriber      1/1/2019      13:33:03                      6   \n",
       "4  Subscriber      1/1/2019      14:24:02                      6   \n",
       "\n",
       "       start_time    city     usetype  \n",
       "0  1/1/2019 15:44  Austin  Subscriber  \n",
       "1  1/1/2019 16:09  Austin  Subscriber  \n",
       "2   1/1/2019 2:16  Austin  Subscriber  \n",
       "3  1/1/2019 13:33  Austin  Subscriber  \n",
       "4  1/1/2019 14:24  Austin  Subscriber  "
      ]
     },
     "execution_count": 57,
     "metadata": {},
     "output_type": "execute_result"
    }
   ],
   "source": [
    "austin.head(5)"
   ]
  },
  {
   "cell_type": "code",
   "execution_count": 48,
   "id": "e9c27a2b",
   "metadata": {},
   "outputs": [],
   "source": [
    "austin['usertype'] = austin['usertype'].replace(['U.T. Student Membership','Local365', 'Local365+Guest Pass', 'Local30','HT Ram Membership','Annual','Annual Membership','Local365 Youth (age 13-17 riders)','Madtown Monthly', 'Aluminum Access','ACL 2019 Pass', 'Republic Rider (Annual)','Local31', 'Student Membership', 'Annual Pass (30 minute)',\n",
    "       'Heartland Pass (Annual Pay)', 'Annual Pass',\n",
    "       'Annual Plus Membership', 'Heartland Pass (Monthly Pay)'],'Subscriber')"
   ]
  },
  {
   "cell_type": "code",
   "execution_count": 50,
   "id": "0cb1e314",
   "metadata": {},
   "outputs": [],
   "source": [
    "austin['usertype'] = austin['usertype'].replace(['24 Hour Walk Up Pass', 'Single Trip',\n",
    "       '$1 Pay by Trip Winter Special', '3-Day Explorer', 'Explorer',\n",
    "       'Single Trip Ride', 'Single Trip (Pay-as-you-ride)',\n",
    "       'Pay-as-you-ride', '3-Day Weekender'],'Customer')"
   ]
  },
  {
   "cell_type": "code",
   "execution_count": 54,
   "id": "09072121",
   "metadata": {},
   "outputs": [],
   "source": [
    "austin['usetype']  = austin['usertype'].replace(['nan'], 'Customer')"
   ]
  },
  {
   "cell_type": "code",
   "execution_count": 58,
   "id": "23307d24",
   "metadata": {},
   "outputs": [],
   "source": [
    "austin.to_csv(r'C:\\Users\\marii\\OneDrive\\Desktop\\SCHOOL\\CSE 696 Final Project\\Main Data\\austin_updated.csv',index = False)"
   ]
  },
  {
   "cell_type": "code",
   "execution_count": null,
   "id": "ac641fae",
   "metadata": {},
   "outputs": [],
   "source": [
    "boston = pd.read_csv('boston_updated.csv')"
   ]
  },
  {
   "cell_type": "code",
   "execution_count": null,
   "id": "2c126835",
   "metadata": {},
   "outputs": [],
   "source": [
    "austin = pd.read_csv('austin_updated.csv')"
   ]
  },
  {
   "cell_type": "code",
   "execution_count": null,
   "id": "fe9ad645",
   "metadata": {},
   "outputs": [],
   "source": [
    "la = pd.read_csv('LA_updated.csv')"
   ]
  },
  {
   "cell_type": "code",
   "execution_count": null,
   "id": "4dbe239f",
   "metadata": {},
   "outputs": [],
   "source": [
    "frames = [boston, la, austin]"
   ]
  },
  {
   "cell_type": "code",
   "execution_count": null,
   "id": "527f508f",
   "metadata": {},
   "outputs": [],
   "source": [
    "df = pd.concat(frames)"
   ]
  },
  {
   "cell_type": "code",
   "execution_count": 8,
   "id": "75b6d675",
   "metadata": {
    "scrolled": true
   },
   "outputs": [
    {
     "ename": "NameError",
     "evalue": "name 'df' is not defined",
     "output_type": "error",
     "traceback": [
      "\u001b[1;31m---------------------------------------------------------------------------\u001b[0m",
      "\u001b[1;31mNameError\u001b[0m                                 Traceback (most recent call last)",
      "\u001b[1;32m~\\AppData\\Local\\Temp/ipykernel_23900/3358113237.py\u001b[0m in \u001b[0;36m<module>\u001b[1;34m\u001b[0m\n\u001b[1;32m----> 1\u001b[1;33m \u001b[0mdf\u001b[0m\u001b[1;33m.\u001b[0m\u001b[0mto_csv\u001b[0m\u001b[1;33m(\u001b[0m\u001b[1;34mr'C:\\Users\\marii\\OneDrive\\Desktop\\SCHOOL\\CSE 696 Final Project\\Main Data\\all_data.csv'\u001b[0m\u001b[1;33m)\u001b[0m\u001b[1;33m\u001b[0m\u001b[1;33m\u001b[0m\u001b[0m\n\u001b[0m",
      "\u001b[1;31mNameError\u001b[0m: name 'df' is not defined"
     ]
    }
   ],
   "source": [
    "df.to_csv(r'C:\\Users\\marii\\OneDrive\\Desktop\\SCHOOL\\CSE 696 Final Project\\Main Data\\all_data.csv')"
   ]
  },
  {
   "cell_type": "code",
   "execution_count": 12,
   "id": "5ce3fc59",
   "metadata": {},
   "outputs": [
    {
     "data": {
      "text/html": [
       "<div>\n",
       "<style scoped>\n",
       "    .dataframe tbody tr th:only-of-type {\n",
       "        vertical-align: middle;\n",
       "    }\n",
       "\n",
       "    .dataframe tbody tr th {\n",
       "        vertical-align: top;\n",
       "    }\n",
       "\n",
       "    .dataframe thead th {\n",
       "        text-align: right;\n",
       "    }\n",
       "</style>\n",
       "<table border=\"1\" class=\"dataframe\">\n",
       "  <thead>\n",
       "    <tr style=\"text-align: right;\">\n",
       "      <th></th>\n",
       "      <th>duration</th>\n",
       "      <th>usertype</th>\n",
       "      <th>city</th>\n",
       "      <th>start_date</th>\n",
       "      <th>average_city_speed(mph)</th>\n",
       "      <th>speed_min_mile</th>\n",
       "      <th>distance_traveled</th>\n",
       "    </tr>\n",
       "  </thead>\n",
       "  <tbody>\n",
       "    <tr>\n",
       "      <th>0</th>\n",
       "      <td>6</td>\n",
       "      <td>Subscriber</td>\n",
       "      <td>Boston</td>\n",
       "      <td>1/1/2019</td>\n",
       "      <td>12</td>\n",
       "      <td>5</td>\n",
       "      <td>1.2</td>\n",
       "    </tr>\n",
       "    <tr>\n",
       "      <th>1</th>\n",
       "      <td>6</td>\n",
       "      <td>Subscriber</td>\n",
       "      <td>Boston</td>\n",
       "      <td>1/1/2019</td>\n",
       "      <td>12</td>\n",
       "      <td>5</td>\n",
       "      <td>1.2</td>\n",
       "    </tr>\n",
       "    <tr>\n",
       "      <th>2</th>\n",
       "      <td>5</td>\n",
       "      <td>Subscriber</td>\n",
       "      <td>Boston</td>\n",
       "      <td>1/1/2019</td>\n",
       "      <td>12</td>\n",
       "      <td>5</td>\n",
       "      <td>1.0</td>\n",
       "    </tr>\n",
       "    <tr>\n",
       "      <th>3</th>\n",
       "      <td>39</td>\n",
       "      <td>Customer</td>\n",
       "      <td>Boston</td>\n",
       "      <td>1/1/2019</td>\n",
       "      <td>12</td>\n",
       "      <td>5</td>\n",
       "      <td>7.8</td>\n",
       "    </tr>\n",
       "    <tr>\n",
       "      <th>4</th>\n",
       "      <td>33</td>\n",
       "      <td>Subscriber</td>\n",
       "      <td>Boston</td>\n",
       "      <td>1/1/2019</td>\n",
       "      <td>12</td>\n",
       "      <td>5</td>\n",
       "      <td>6.6</td>\n",
       "    </tr>\n",
       "    <tr>\n",
       "      <th>...</th>\n",
       "      <td>...</td>\n",
       "      <td>...</td>\n",
       "      <td>...</td>\n",
       "      <td>...</td>\n",
       "      <td>...</td>\n",
       "      <td>...</td>\n",
       "      <td>...</td>\n",
       "    </tr>\n",
       "    <tr>\n",
       "      <th>1062177</th>\n",
       "      <td>19585</td>\n",
       "      <td>Customer</td>\n",
       "      <td>Austin</td>\n",
       "      <td>3/14/2020</td>\n",
       "      <td>12</td>\n",
       "      <td>5</td>\n",
       "      <td>3917.0</td>\n",
       "    </tr>\n",
       "    <tr>\n",
       "      <th>1062178</th>\n",
       "      <td>20695</td>\n",
       "      <td>Customer</td>\n",
       "      <td>Austin</td>\n",
       "      <td>8/10/2019</td>\n",
       "      <td>12</td>\n",
       "      <td>5</td>\n",
       "      <td>4139.0</td>\n",
       "    </tr>\n",
       "    <tr>\n",
       "      <th>1062179</th>\n",
       "      <td>21197</td>\n",
       "      <td>Customer</td>\n",
       "      <td>Austin</td>\n",
       "      <td>8/15/2019</td>\n",
       "      <td>12</td>\n",
       "      <td>5</td>\n",
       "      <td>4239.4</td>\n",
       "    </tr>\n",
       "    <tr>\n",
       "      <th>1062180</th>\n",
       "      <td>22993</td>\n",
       "      <td>Customer</td>\n",
       "      <td>Austin</td>\n",
       "      <td>4/11/2020</td>\n",
       "      <td>12</td>\n",
       "      <td>5</td>\n",
       "      <td>4598.6</td>\n",
       "    </tr>\n",
       "    <tr>\n",
       "      <th>1062181</th>\n",
       "      <td>34238</td>\n",
       "      <td>Customer</td>\n",
       "      <td>Austin</td>\n",
       "      <td>8/7/2019</td>\n",
       "      <td>12</td>\n",
       "      <td>5</td>\n",
       "      <td>6847.6</td>\n",
       "    </tr>\n",
       "  </tbody>\n",
       "</table>\n",
       "<p>1062182 rows × 7 columns</p>\n",
       "</div>"
      ],
      "text/plain": [
       "         duration    usertype    city start_date  average_city_speed(mph)  \\\n",
       "0               6  Subscriber  Boston   1/1/2019                       12   \n",
       "1               6  Subscriber  Boston   1/1/2019                       12   \n",
       "2               5  Subscriber  Boston   1/1/2019                       12   \n",
       "3              39    Customer  Boston   1/1/2019                       12   \n",
       "4              33  Subscriber  Boston   1/1/2019                       12   \n",
       "...           ...         ...     ...        ...                      ...   \n",
       "1062177     19585    Customer  Austin  3/14/2020                       12   \n",
       "1062178     20695    Customer  Austin  8/10/2019                       12   \n",
       "1062179     21197    Customer  Austin  8/15/2019                       12   \n",
       "1062180     22993    Customer  Austin  4/11/2020                       12   \n",
       "1062181     34238    Customer  Austin   8/7/2019                       12   \n",
       "\n",
       "         speed_min_mile  distance_traveled  \n",
       "0                     5                1.2  \n",
       "1                     5                1.2  \n",
       "2                     5                1.0  \n",
       "3                     5                7.8  \n",
       "4                     5                6.6  \n",
       "...                 ...                ...  \n",
       "1062177               5             3917.0  \n",
       "1062178               5             4139.0  \n",
       "1062179               5             4239.4  \n",
       "1062180               5             4598.6  \n",
       "1062181               5             6847.6  \n",
       "\n",
       "[1062182 rows x 7 columns]"
      ]
     },
     "execution_count": 12,
     "metadata": {},
     "output_type": "execute_result"
    }
   ],
   "source": [
    "df = pd.read_csv('all_data.csv')\n",
    "df.head()\n",
    "df = df.drop(columns =['Unnamed: 0'])\n",
    "df"
   ]
  },
  {
   "cell_type": "code",
   "execution_count": 13,
   "id": "f4b42fce",
   "metadata": {},
   "outputs": [],
   "source": [
    "df['average_city_speed(mph)'] = '12'"
   ]
  },
  {
   "cell_type": "code",
   "execution_count": 14,
   "id": "8125d693",
   "metadata": {
    "scrolled": true
   },
   "outputs": [
    {
     "data": {
      "text/html": [
       "<div>\n",
       "<style scoped>\n",
       "    .dataframe tbody tr th:only-of-type {\n",
       "        vertical-align: middle;\n",
       "    }\n",
       "\n",
       "    .dataframe tbody tr th {\n",
       "        vertical-align: top;\n",
       "    }\n",
       "\n",
       "    .dataframe thead th {\n",
       "        text-align: right;\n",
       "    }\n",
       "</style>\n",
       "<table border=\"1\" class=\"dataframe\">\n",
       "  <thead>\n",
       "    <tr style=\"text-align: right;\">\n",
       "      <th></th>\n",
       "      <th>duration</th>\n",
       "      <th>usertype</th>\n",
       "      <th>city</th>\n",
       "      <th>start_date</th>\n",
       "      <th>average_city_speed(mph)</th>\n",
       "      <th>speed_min_mile</th>\n",
       "      <th>distance_traveled</th>\n",
       "    </tr>\n",
       "  </thead>\n",
       "  <tbody>\n",
       "    <tr>\n",
       "      <th>0</th>\n",
       "      <td>6</td>\n",
       "      <td>Subscriber</td>\n",
       "      <td>Boston</td>\n",
       "      <td>1/1/2019</td>\n",
       "      <td>12</td>\n",
       "      <td>5</td>\n",
       "      <td>1.2</td>\n",
       "    </tr>\n",
       "    <tr>\n",
       "      <th>1</th>\n",
       "      <td>6</td>\n",
       "      <td>Subscriber</td>\n",
       "      <td>Boston</td>\n",
       "      <td>1/1/2019</td>\n",
       "      <td>12</td>\n",
       "      <td>5</td>\n",
       "      <td>1.2</td>\n",
       "    </tr>\n",
       "    <tr>\n",
       "      <th>2</th>\n",
       "      <td>5</td>\n",
       "      <td>Subscriber</td>\n",
       "      <td>Boston</td>\n",
       "      <td>1/1/2019</td>\n",
       "      <td>12</td>\n",
       "      <td>5</td>\n",
       "      <td>1.0</td>\n",
       "    </tr>\n",
       "    <tr>\n",
       "      <th>3</th>\n",
       "      <td>39</td>\n",
       "      <td>Customer</td>\n",
       "      <td>Boston</td>\n",
       "      <td>1/1/2019</td>\n",
       "      <td>12</td>\n",
       "      <td>5</td>\n",
       "      <td>7.8</td>\n",
       "    </tr>\n",
       "    <tr>\n",
       "      <th>4</th>\n",
       "      <td>33</td>\n",
       "      <td>Subscriber</td>\n",
       "      <td>Boston</td>\n",
       "      <td>1/1/2019</td>\n",
       "      <td>12</td>\n",
       "      <td>5</td>\n",
       "      <td>6.6</td>\n",
       "    </tr>\n",
       "  </tbody>\n",
       "</table>\n",
       "</div>"
      ],
      "text/plain": [
       "   duration    usertype    city start_date average_city_speed(mph)  \\\n",
       "0         6  Subscriber  Boston   1/1/2019                      12   \n",
       "1         6  Subscriber  Boston   1/1/2019                      12   \n",
       "2         5  Subscriber  Boston   1/1/2019                      12   \n",
       "3        39    Customer  Boston   1/1/2019                      12   \n",
       "4        33  Subscriber  Boston   1/1/2019                      12   \n",
       "\n",
       "   speed_min_mile  distance_traveled  \n",
       "0               5                1.2  \n",
       "1               5                1.2  \n",
       "2               5                1.0  \n",
       "3               5                7.8  \n",
       "4               5                6.6  "
      ]
     },
     "execution_count": 14,
     "metadata": {},
     "output_type": "execute_result"
    }
   ],
   "source": [
    "df.head(5)"
   ]
  },
  {
   "cell_type": "code",
   "execution_count": 16,
   "id": "acd4bad1",
   "metadata": {},
   "outputs": [],
   "source": [
    "df['speed_min_mile'] = '5'"
   ]
  },
  {
   "cell_type": "code",
   "execution_count": 17,
   "id": "95434469",
   "metadata": {
    "scrolled": true
   },
   "outputs": [
    {
     "data": {
      "text/plain": [
       "duration                     int64\n",
       "usertype                    object\n",
       "city                        object\n",
       "start_date                  object\n",
       "average_city_speed(mph)     object\n",
       "speed_min_mile              object\n",
       "distance_traveled          float64\n",
       "dtype: object"
      ]
     },
     "execution_count": 17,
     "metadata": {},
     "output_type": "execute_result"
    }
   ],
   "source": [
    "df.dtypes"
   ]
  },
  {
   "cell_type": "code",
   "execution_count": 19,
   "id": "35296a4e",
   "metadata": {},
   "outputs": [],
   "source": [
    "df['speed_min_mile'] = df['speed_min_mile'].astype(int)"
   ]
  },
  {
   "cell_type": "code",
   "execution_count": 20,
   "id": "308c50ca",
   "metadata": {},
   "outputs": [],
   "source": [
    "df['distance_traveled'] = df.apply(lambda x: x['duration']/x['speed_min_mile'], axis = 1)"
   ]
  },
  {
   "cell_type": "code",
   "execution_count": 21,
   "id": "b1ad4ce1",
   "metadata": {},
   "outputs": [
    {
     "data": {
      "text/html": [
       "<div>\n",
       "<style scoped>\n",
       "    .dataframe tbody tr th:only-of-type {\n",
       "        vertical-align: middle;\n",
       "    }\n",
       "\n",
       "    .dataframe tbody tr th {\n",
       "        vertical-align: top;\n",
       "    }\n",
       "\n",
       "    .dataframe thead th {\n",
       "        text-align: right;\n",
       "    }\n",
       "</style>\n",
       "<table border=\"1\" class=\"dataframe\">\n",
       "  <thead>\n",
       "    <tr style=\"text-align: right;\">\n",
       "      <th></th>\n",
       "      <th>duration</th>\n",
       "      <th>usertype</th>\n",
       "      <th>city</th>\n",
       "      <th>start_date</th>\n",
       "      <th>average_city_speed(mph)</th>\n",
       "      <th>speed_min_mile</th>\n",
       "      <th>distance_traveled</th>\n",
       "    </tr>\n",
       "  </thead>\n",
       "  <tbody>\n",
       "    <tr>\n",
       "      <th>0</th>\n",
       "      <td>6</td>\n",
       "      <td>Subscriber</td>\n",
       "      <td>Boston</td>\n",
       "      <td>1/1/2019</td>\n",
       "      <td>12</td>\n",
       "      <td>5</td>\n",
       "      <td>1.2</td>\n",
       "    </tr>\n",
       "    <tr>\n",
       "      <th>1</th>\n",
       "      <td>6</td>\n",
       "      <td>Subscriber</td>\n",
       "      <td>Boston</td>\n",
       "      <td>1/1/2019</td>\n",
       "      <td>12</td>\n",
       "      <td>5</td>\n",
       "      <td>1.2</td>\n",
       "    </tr>\n",
       "    <tr>\n",
       "      <th>2</th>\n",
       "      <td>5</td>\n",
       "      <td>Subscriber</td>\n",
       "      <td>Boston</td>\n",
       "      <td>1/1/2019</td>\n",
       "      <td>12</td>\n",
       "      <td>5</td>\n",
       "      <td>1.0</td>\n",
       "    </tr>\n",
       "    <tr>\n",
       "      <th>3</th>\n",
       "      <td>39</td>\n",
       "      <td>Customer</td>\n",
       "      <td>Boston</td>\n",
       "      <td>1/1/2019</td>\n",
       "      <td>12</td>\n",
       "      <td>5</td>\n",
       "      <td>7.8</td>\n",
       "    </tr>\n",
       "    <tr>\n",
       "      <th>4</th>\n",
       "      <td>33</td>\n",
       "      <td>Subscriber</td>\n",
       "      <td>Boston</td>\n",
       "      <td>1/1/2019</td>\n",
       "      <td>12</td>\n",
       "      <td>5</td>\n",
       "      <td>6.6</td>\n",
       "    </tr>\n",
       "  </tbody>\n",
       "</table>\n",
       "</div>"
      ],
      "text/plain": [
       "   duration    usertype    city start_date average_city_speed(mph)  \\\n",
       "0         6  Subscriber  Boston   1/1/2019                      12   \n",
       "1         6  Subscriber  Boston   1/1/2019                      12   \n",
       "2         5  Subscriber  Boston   1/1/2019                      12   \n",
       "3        39    Customer  Boston   1/1/2019                      12   \n",
       "4        33  Subscriber  Boston   1/1/2019                      12   \n",
       "\n",
       "   speed_min_mile  distance_traveled  \n",
       "0               5                1.2  \n",
       "1               5                1.2  \n",
       "2               5                1.0  \n",
       "3               5                7.8  \n",
       "4               5                6.6  "
      ]
     },
     "execution_count": 21,
     "metadata": {},
     "output_type": "execute_result"
    }
   ],
   "source": [
    "df.head()"
   ]
  },
  {
   "cell_type": "code",
   "execution_count": 22,
   "id": "f6d2e872",
   "metadata": {},
   "outputs": [],
   "source": [
    "df = df[df.distance_traveled <100]"
   ]
  },
  {
   "cell_type": "code",
   "execution_count": null,
   "id": "20aecd52",
   "metadata": {},
   "outputs": [],
   "source": [
    "df.to_csv(r'C:\\Users\\marii\\OneDrive\\Desktop\\SCHOOL\\CSE 696 Final Project\\Main Data\\all_data_2.csv')"
   ]
  },
  {
   "cell_type": "code",
   "execution_count": 23,
   "id": "135e7ed3",
   "metadata": {},
   "outputs": [
    {
     "name": "stderr",
     "output_type": "stream",
     "text": [
      "C:\\Users\\marii\\AppData\\Local\\Temp/ipykernel_23900/2785501946.py:1: SettingWithCopyWarning: \n",
      "A value is trying to be set on a copy of a slice from a DataFrame.\n",
      "Try using .loc[row_indexer,col_indexer] = value instead\n",
      "\n",
      "See the caveats in the documentation: https://pandas.pydata.org/pandas-docs/stable/user_guide/indexing.html#returning-a-view-versus-a-copy\n",
      "  df['paleo_commuter'] = ((df['distance_traveled']* 25)*5.6).round(2)\n"
     ]
    }
   ],
   "source": [
    "df['paleo_commuter'] = ((df['distance_traveled']* 25)*5.6).round(2)"
   ]
  },
  {
   "cell_type": "code",
   "execution_count": 24,
   "id": "05f310ec",
   "metadata": {},
   "outputs": [
    {
     "name": "stderr",
     "output_type": "stream",
     "text": [
      "C:\\Users\\marii\\AppData\\Local\\Temp/ipykernel_23900/1060279556.py:1: SettingWithCopyWarning: \n",
      "A value is trying to be set on a copy of a slice from a DataFrame.\n",
      "Try using .loc[row_indexer,col_indexer] = value instead\n",
      "\n",
      "See the caveats in the documentation: https://pandas.pydata.org/pandas-docs/stable/user_guide/indexing.html#returning-a-view-versus-a-copy\n",
      "  df['vegan_commuter'] = ((df['distance_traveled']* 25)*1.66).round(2)\n"
     ]
    }
   ],
   "source": [
    "df['vegan_commuter'] = ((df['distance_traveled']* 25)*1.66).round(2)"
   ]
  },
  {
   "cell_type": "code",
   "execution_count": 25,
   "id": "0c94969f",
   "metadata": {},
   "outputs": [
    {
     "name": "stderr",
     "output_type": "stream",
     "text": [
      "C:\\Users\\marii\\AppData\\Local\\Temp/ipykernel_23900/938360344.py:1: SettingWithCopyWarning: \n",
      "A value is trying to be set on a copy of a slice from a DataFrame.\n",
      "Try using .loc[row_indexer,col_indexer] = value instead\n",
      "\n",
      "See the caveats in the documentation: https://pandas.pydata.org/pandas-docs/stable/user_guide/indexing.html#returning-a-view-versus-a-copy\n",
      "  df['regular_commuter'] = ((df['distance_traveled']* 25)*2.9).round(2)\n"
     ]
    }
   ],
   "source": [
    "df['regular_commuter'] = ((df['distance_traveled']* 25)*2.9).round(2)"
   ]
  },
  {
   "cell_type": "code",
   "execution_count": 26,
   "id": "23970a61",
   "metadata": {},
   "outputs": [
    {
     "name": "stderr",
     "output_type": "stream",
     "text": [
      "C:\\Users\\marii\\AppData\\Local\\Temp/ipykernel_23900/2141688724.py:1: SettingWithCopyWarning: \n",
      "A value is trying to be set on a copy of a slice from a DataFrame.\n",
      "Try using .loc[row_indexer,col_indexer] = value instead\n",
      "\n",
      "See the caveats in the documentation: https://pandas.pydata.org/pandas-docs/stable/user_guide/indexing.html#returning-a-view-versus-a-copy\n",
      "  df['car_emission'] =  (df['distance_traveled'] *404).round(2)\n"
     ]
    }
   ],
   "source": [
    "df['car_emission'] =  (df['distance_traveled'] *404).round(2)"
   ]
  },
  {
   "cell_type": "code",
   "execution_count": 27,
   "id": "a7db442a",
   "metadata": {
    "scrolled": true
   },
   "outputs": [
    {
     "data": {
      "text/html": [
       "<div>\n",
       "<style scoped>\n",
       "    .dataframe tbody tr th:only-of-type {\n",
       "        vertical-align: middle;\n",
       "    }\n",
       "\n",
       "    .dataframe tbody tr th {\n",
       "        vertical-align: top;\n",
       "    }\n",
       "\n",
       "    .dataframe thead th {\n",
       "        text-align: right;\n",
       "    }\n",
       "</style>\n",
       "<table border=\"1\" class=\"dataframe\">\n",
       "  <thead>\n",
       "    <tr style=\"text-align: right;\">\n",
       "      <th></th>\n",
       "      <th>duration</th>\n",
       "      <th>usertype</th>\n",
       "      <th>city</th>\n",
       "      <th>start_date</th>\n",
       "      <th>average_city_speed(mph)</th>\n",
       "      <th>speed_min_mile</th>\n",
       "      <th>distance_traveled</th>\n",
       "      <th>paleo_commuter</th>\n",
       "      <th>vegan_commuter</th>\n",
       "      <th>regular_commuter</th>\n",
       "      <th>car_emission</th>\n",
       "    </tr>\n",
       "  </thead>\n",
       "  <tbody>\n",
       "    <tr>\n",
       "      <th>0</th>\n",
       "      <td>6</td>\n",
       "      <td>Subscriber</td>\n",
       "      <td>Boston</td>\n",
       "      <td>1/1/2019</td>\n",
       "      <td>12</td>\n",
       "      <td>5</td>\n",
       "      <td>1.2</td>\n",
       "      <td>168.0</td>\n",
       "      <td>49.8</td>\n",
       "      <td>87.0</td>\n",
       "      <td>484.8</td>\n",
       "    </tr>\n",
       "    <tr>\n",
       "      <th>1</th>\n",
       "      <td>6</td>\n",
       "      <td>Subscriber</td>\n",
       "      <td>Boston</td>\n",
       "      <td>1/1/2019</td>\n",
       "      <td>12</td>\n",
       "      <td>5</td>\n",
       "      <td>1.2</td>\n",
       "      <td>168.0</td>\n",
       "      <td>49.8</td>\n",
       "      <td>87.0</td>\n",
       "      <td>484.8</td>\n",
       "    </tr>\n",
       "    <tr>\n",
       "      <th>2</th>\n",
       "      <td>5</td>\n",
       "      <td>Subscriber</td>\n",
       "      <td>Boston</td>\n",
       "      <td>1/1/2019</td>\n",
       "      <td>12</td>\n",
       "      <td>5</td>\n",
       "      <td>1.0</td>\n",
       "      <td>140.0</td>\n",
       "      <td>41.5</td>\n",
       "      <td>72.5</td>\n",
       "      <td>404.0</td>\n",
       "    </tr>\n",
       "    <tr>\n",
       "      <th>3</th>\n",
       "      <td>39</td>\n",
       "      <td>Customer</td>\n",
       "      <td>Boston</td>\n",
       "      <td>1/1/2019</td>\n",
       "      <td>12</td>\n",
       "      <td>5</td>\n",
       "      <td>7.8</td>\n",
       "      <td>1092.0</td>\n",
       "      <td>323.7</td>\n",
       "      <td>565.5</td>\n",
       "      <td>3151.2</td>\n",
       "    </tr>\n",
       "    <tr>\n",
       "      <th>4</th>\n",
       "      <td>33</td>\n",
       "      <td>Subscriber</td>\n",
       "      <td>Boston</td>\n",
       "      <td>1/1/2019</td>\n",
       "      <td>12</td>\n",
       "      <td>5</td>\n",
       "      <td>6.6</td>\n",
       "      <td>924.0</td>\n",
       "      <td>273.9</td>\n",
       "      <td>478.5</td>\n",
       "      <td>2666.4</td>\n",
       "    </tr>\n",
       "  </tbody>\n",
       "</table>\n",
       "</div>"
      ],
      "text/plain": [
       "   duration    usertype    city start_date average_city_speed(mph)  \\\n",
       "0         6  Subscriber  Boston   1/1/2019                      12   \n",
       "1         6  Subscriber  Boston   1/1/2019                      12   \n",
       "2         5  Subscriber  Boston   1/1/2019                      12   \n",
       "3        39    Customer  Boston   1/1/2019                      12   \n",
       "4        33  Subscriber  Boston   1/1/2019                      12   \n",
       "\n",
       "   speed_min_mile  distance_traveled  paleo_commuter  vegan_commuter  \\\n",
       "0               5                1.2           168.0            49.8   \n",
       "1               5                1.2           168.0            49.8   \n",
       "2               5                1.0           140.0            41.5   \n",
       "3               5                7.8          1092.0           323.7   \n",
       "4               5                6.6           924.0           273.9   \n",
       "\n",
       "   regular_commuter  car_emission  \n",
       "0              87.0         484.8  \n",
       "1              87.0         484.8  \n",
       "2              72.5         404.0  \n",
       "3             565.5        3151.2  \n",
       "4             478.5        2666.4  "
      ]
     },
     "execution_count": 27,
     "metadata": {},
     "output_type": "execute_result"
    }
   ],
   "source": [
    "df.head()"
   ]
  },
  {
   "cell_type": "code",
   "execution_count": 30,
   "id": "2ea17407",
   "metadata": {},
   "outputs": [],
   "source": [
    "df.to_csv(r'C:\\Users\\marii\\OneDrive\\Desktop\\SCHOOL\\CSE 696 Final Project\\Main Data\\FINAL_DATA.csv')"
   ]
  },
  {
   "cell_type": "code",
   "execution_count": 28,
   "id": "f9b9b89b",
   "metadata": {},
   "outputs": [
    {
     "data": {
      "text/plain": [
       "<AxesSubplot:>"
      ]
     },
     "execution_count": 28,
     "metadata": {},
     "output_type": "execute_result"
    },
    {
     "data": {
      "image/png": "[encoded data removed]",
      "text/plain": [
       "<Figure size 432x288 with 1 Axes>"
      ]
     },
     "metadata": {
      "needs_background": "light"
     },
     "output_type": "display_data"
    }
   ],
   "source": [
    "df['usertype'].value_counts().plot(kind='barh')"
   ]
  },
  {
   "cell_type": "code",
   "execution_count": 29,
   "id": "5a27c6d1",
   "metadata": {},
   "outputs": [
    {
     "data": {
      "text/plain": [
       "<AxesSubplot:>"
      ]
     },
     "execution_count": 29,
     "metadata": {},
     "output_type": "execute_result"
    },
    {
     "data": {
      "image/png": "[encoded data removed]",
      "text/plain": [
       "<Figure size 432x288 with 2 Axes>"
      ]
     },
     "metadata": {
      "needs_background": "light"
     },
     "output_type": "display_data"
    }
   ],
   "source": [
    "import seaborn as sns\n",
    "import matplotlib.pyplot as plt\n",
    "\n",
    "%matplotlib inline\n",
    "corr=df.corr()\n",
    "sns.heatmap(corr, xticklabels=corr.columns, yticklabels=corr.columns)\n"
   ]
  }
 ],
 "metadata": {
  "kernelspec": {
   "display_name": "Python 3 (ipykernel)",
   "language": "python",
   "name": "python3"
  },
  "language_info": {
   "codemirror_mode": {
    "name": "ipython",
    "version": 3
   },
   "file_extension": ".py",
   "mimetype": "text/x-python",
   "name": "python",
   "nbconvert_exporter": "python",
   "pygments_lexer": "ipython3",
   "version": "3.9.7"
  }
 },
 "nbformat": 4,
 "nbformat_minor": 5
}
