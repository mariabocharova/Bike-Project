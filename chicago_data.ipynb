{
 "cells": [
  {
   "cell_type": "code",
   "execution_count": 4,
   "id": "ce47203a",
   "metadata": {},
   "outputs": [],
   "source": [
    "import pandas as pd\n",
    "chicago = pd.read_csv('chicago_data.csv', low_memory = False)"
   ]
  },
  {
   "cell_type": "code",
   "execution_count": 2,
   "id": "e6fee8b5",
   "metadata": {},
   "outputs": [],
   "source": [
    "import pandas as pd\n",
    "boston = pd.read_csv('Boston_data.csv',low_memory = False)"
   ]
  },
  {
   "cell_type": "code",
   "execution_count": 3,
   "id": "07db563e",
   "metadata": {},
   "outputs": [
    {
     "data": {
      "text/html": [
       "<div>\n",
       "<style scoped>\n",
       "    .dataframe tbody tr th:only-of-type {\n",
       "        vertical-align: middle;\n",
       "    }\n",
       "\n",
       "    .dataframe tbody tr th {\n",
       "        vertical-align: top;\n",
       "    }\n",
       "\n",
       "    .dataframe thead th {\n",
       "        text-align: right;\n",
       "    }\n",
       "</style>\n",
       "<table border=\"1\" class=\"dataframe\">\n",
       "  <thead>\n",
       "    <tr style=\"text-align: right;\">\n",
       "      <th></th>\n",
       "      <th>tripduration</th>\n",
       "      <th>start_time</th>\n",
       "      <th>stop_time</th>\n",
       "      <th>usertype</th>\n",
       "      <th>birth year</th>\n",
       "      <th>gender</th>\n",
       "    </tr>\n",
       "  </thead>\n",
       "  <tbody>\n",
       "    <tr>\n",
       "      <th>0</th>\n",
       "      <td>371.0</td>\n",
       "      <td>2019-01-01 00:09:14</td>\n",
       "      <td>2019-01-01 00:15:25</td>\n",
       "      <td>Subscriber</td>\n",
       "      <td>1987.0</td>\n",
       "      <td>1.0</td>\n",
       "    </tr>\n",
       "    <tr>\n",
       "      <th>1</th>\n",
       "      <td>264.0</td>\n",
       "      <td>2019-01-01 00:33:56</td>\n",
       "      <td>2019-01-01 00:38:21</td>\n",
       "      <td>Subscriber</td>\n",
       "      <td>1990.0</td>\n",
       "      <td>1.0</td>\n",
       "    </tr>\n",
       "    <tr>\n",
       "      <th>2</th>\n",
       "      <td>458.0</td>\n",
       "      <td>2019-01-01 00:41:55</td>\n",
       "      <td>2019-01-01 00:49:33</td>\n",
       "      <td>Subscriber</td>\n",
       "      <td>1977.0</td>\n",
       "      <td>1.0</td>\n",
       "    </tr>\n",
       "    <tr>\n",
       "      <th>3</th>\n",
       "      <td>364.0</td>\n",
       "      <td>2019-01-01 00:43:33</td>\n",
       "      <td>2019-01-01 00:49:37</td>\n",
       "      <td>Subscriber</td>\n",
       "      <td>1993.0</td>\n",
       "      <td>1.0</td>\n",
       "    </tr>\n",
       "    <tr>\n",
       "      <th>4</th>\n",
       "      <td>681.0</td>\n",
       "      <td>2019-01-01 00:49:56</td>\n",
       "      <td>2019-01-01 01:01:18</td>\n",
       "      <td>Subscriber</td>\n",
       "      <td>1979.0</td>\n",
       "      <td>2.0</td>\n",
       "    </tr>\n",
       "    <tr>\n",
       "      <th>...</th>\n",
       "      <td>...</td>\n",
       "      <td>...</td>\n",
       "      <td>...</td>\n",
       "      <td>...</td>\n",
       "      <td>...</td>\n",
       "      <td>...</td>\n",
       "    </tr>\n",
       "    <tr>\n",
       "      <th>1048571</th>\n",
       "      <td>660.0</td>\n",
       "      <td>2019-07-14 10:23:05</td>\n",
       "      <td>2019-07-14 10:34:05</td>\n",
       "      <td>Customer</td>\n",
       "      <td>1969.0</td>\n",
       "      <td>0.0</td>\n",
       "    </tr>\n",
       "    <tr>\n",
       "      <th>1048572</th>\n",
       "      <td>240.0</td>\n",
       "      <td>2019-07-14 10:23:06</td>\n",
       "      <td>2019-07-14 10:27:06</td>\n",
       "      <td>Subscriber</td>\n",
       "      <td>1987.0</td>\n",
       "      <td>1.0</td>\n",
       "    </tr>\n",
       "    <tr>\n",
       "      <th>1048573</th>\n",
       "      <td>1428.0</td>\n",
       "      <td>2019-07-14 10:23:11</td>\n",
       "      <td>2019-07-14 10:46:59</td>\n",
       "      <td>Subscriber</td>\n",
       "      <td>1973.0</td>\n",
       "      <td>1.0</td>\n",
       "    </tr>\n",
       "    <tr>\n",
       "      <th>1048574</th>\n",
       "      <td>3317.0</td>\n",
       "      <td>2019-07-14 10:23:15</td>\n",
       "      <td>2019-07-14 11:18:33</td>\n",
       "      <td>Customer</td>\n",
       "      <td>1992.0</td>\n",
       "      <td>1.0</td>\n",
       "    </tr>\n",
       "    <tr>\n",
       "      <th>1048575</th>\n",
       "      <td>1495.0</td>\n",
       "      <td>2019-07-14 10:23:19</td>\n",
       "      <td>2019-07-14 10:48:14</td>\n",
       "      <td>Customer</td>\n",
       "      <td>1999.0</td>\n",
       "      <td>2.0</td>\n",
       "    </tr>\n",
       "  </tbody>\n",
       "</table>\n",
       "<p>1048576 rows × 6 columns</p>\n",
       "</div>"
      ],
      "text/plain": [
       "         tripduration           start_time            stop_time    usertype  \\\n",
       "0               371.0  2019-01-01 00:09:14  2019-01-01 00:15:25  Subscriber   \n",
       "1               264.0  2019-01-01 00:33:56  2019-01-01 00:38:21  Subscriber   \n",
       "2               458.0  2019-01-01 00:41:55  2019-01-01 00:49:33  Subscriber   \n",
       "3               364.0  2019-01-01 00:43:33  2019-01-01 00:49:37  Subscriber   \n",
       "4               681.0  2019-01-01 00:49:56  2019-01-01 01:01:18  Subscriber   \n",
       "...               ...                  ...                  ...         ...   \n",
       "1048571         660.0  2019-07-14 10:23:05  2019-07-14 10:34:05    Customer   \n",
       "1048572         240.0  2019-07-14 10:23:06  2019-07-14 10:27:06  Subscriber   \n",
       "1048573        1428.0  2019-07-14 10:23:11  2019-07-14 10:46:59  Subscriber   \n",
       "1048574        3317.0  2019-07-14 10:23:15  2019-07-14 11:18:33    Customer   \n",
       "1048575        1495.0  2019-07-14 10:23:19  2019-07-14 10:48:14    Customer   \n",
       "\n",
       "         birth year  gender  \n",
       "0            1987.0     1.0  \n",
       "1            1990.0     1.0  \n",
       "2            1977.0     1.0  \n",
       "3            1993.0     1.0  \n",
       "4            1979.0     2.0  \n",
       "...             ...     ...  \n",
       "1048571      1969.0     0.0  \n",
       "1048572      1987.0     1.0  \n",
       "1048573      1973.0     1.0  \n",
       "1048574      1992.0     1.0  \n",
       "1048575      1999.0     2.0  \n",
       "\n",
       "[1048576 rows x 6 columns]"
      ]
     },
     "execution_count": 3,
     "metadata": {},
     "output_type": "execute_result"
    }
   ],
   "source": [
    "boston"
   ]
  },
  {
   "cell_type": "code",
   "execution_count": 8,
   "id": "4747e0f2",
   "metadata": {},
   "outputs": [],
   "source": [
    "c_2019 = pd.read_csv('chi_2019_updated.csv', low_memory = False)"
   ]
  },
  {
   "cell_type": "code",
   "execution_count": 18,
   "id": "5b0c3e46",
   "metadata": {},
   "outputs": [],
   "source": [
    "c_2019_renamed = c_2019.rename(columns ={\"start_time\":\"started_at\",\"end_time\":\"ended_at\", \"usertype\":\"member_casual\"})"
   ]
  },
  {
   "cell_type": "code",
   "execution_count": 10,
   "id": "1100ab52",
   "metadata": {},
   "outputs": [],
   "source": [
    "c_2020 = pd.read_csv('chi_2020_updated.csv', low_memory = False)"
   ]
  },
  {
   "cell_type": "code",
   "execution_count": 12,
   "id": "255c4c73",
   "metadata": {},
   "outputs": [],
   "source": [
    "c_2021 = pd.read_csv('chi_2021_updated.csv', low_memory = False)"
   ]
  },
  {
   "cell_type": "code",
   "execution_count": 20,
   "id": "c3ae7e2a",
   "metadata": {},
   "outputs": [
    {
     "data": {
      "text/plain": [
       "10185321"
      ]
     },
     "execution_count": 20,
     "metadata": {},
     "output_type": "execute_result"
    }
   ],
   "source": [
    "frames = [c_2019_renamed, c_2020, c_2021]\n",
    "chicago_data = pd.concat(frames)\n",
    "len(chicago_data)"
   ]
  },
  {
   "cell_type": "code",
   "execution_count": 27,
   "id": "778b50b9",
   "metadata": {},
   "outputs": [],
   "source": [
    "chicago_data_dropped = chicago_data.drop(columns=['birthyear','gender'])"
   ]
  },
  {
   "cell_type": "code",
   "execution_count": 29,
   "id": "0557744d",
   "metadata": {},
   "outputs": [],
   "source": [
    "chicago_data_dropped.loc[chicago_data_dropped.member_casual == 'member','member_casual'] = 'Subscriber'"
   ]
  },
  {
   "cell_type": "code",
   "execution_count": 31,
   "id": "a49891d3",
   "metadata": {},
   "outputs": [],
   "source": [
    "chicago_data_dropped.to_csv(r'C:\\Users\\marii\\OneDrive\\Desktop\\SCHOOL\\CSE 696 Final Project\\Main Data\\chicago_data.csv',index = False)"
   ]
  },
  {
   "cell_type": "code",
   "execution_count": 5,
   "id": "47795a75",
   "metadata": {},
   "outputs": [
    {
     "data": {
      "text/plain": [
       "0         False\n",
       "1         False\n",
       "2         False\n",
       "3         False\n",
       "4         False\n",
       "          ...  \n",
       "685563    False\n",
       "685564    False\n",
       "685565    False\n",
       "685566    False\n",
       "685567    False\n",
       "Name: tripduration, Length: 685568, dtype: bool"
      ]
     },
     "execution_count": 5,
     "metadata": {},
     "output_type": "execute_result"
    }
   ],
   "source": [
    "chicago.tripduration.isna()"
   ]
  },
  {
   "cell_type": "code",
   "execution_count": 1,
   "id": "936d8817",
   "metadata": {},
   "outputs": [],
   "source": [
    "import pandas as pd \n",
    "austin = pd.read_csv('Austin_data_updated.csv', low_memory = False)"
   ]
  },
  {
   "cell_type": "code",
   "execution_count": 2,
   "id": "71f07f4c",
   "metadata": {},
   "outputs": [
    {
     "data": {
      "text/html": [
       "<div>\n",
       "<style scoped>\n",
       "    .dataframe tbody tr th:only-of-type {\n",
       "        vertical-align: middle;\n",
       "    }\n",
       "\n",
       "    .dataframe tbody tr th {\n",
       "        vertical-align: top;\n",
       "    }\n",
       "\n",
       "    .dataframe thead th {\n",
       "        text-align: right;\n",
       "    }\n",
       "</style>\n",
       "<table border=\"1\" class=\"dataframe\">\n",
       "  <thead>\n",
       "    <tr style=\"text-align: right;\">\n",
       "      <th></th>\n",
       "      <th>usertype</th>\n",
       "      <th>Checkout Date</th>\n",
       "      <th>Checkout Time</th>\n",
       "      <th>Trip Duration Minutes</th>\n",
       "      <th>start_time</th>\n",
       "    </tr>\n",
       "  </thead>\n",
       "  <tbody>\n",
       "    <tr>\n",
       "      <th>0</th>\n",
       "      <td>U.T. Student Membership</td>\n",
       "      <td>1/1/2019</td>\n",
       "      <td>15:44:27</td>\n",
       "      <td>6</td>\n",
       "      <td>1/1/2019 15:44</td>\n",
       "    </tr>\n",
       "    <tr>\n",
       "      <th>1</th>\n",
       "      <td>U.T. Student Membership</td>\n",
       "      <td>1/1/2019</td>\n",
       "      <td>16:09:50</td>\n",
       "      <td>6</td>\n",
       "      <td>1/1/2019 16:09</td>\n",
       "    </tr>\n",
       "    <tr>\n",
       "      <th>2</th>\n",
       "      <td>U.T. Student Membership</td>\n",
       "      <td>1/1/2019</td>\n",
       "      <td>2:16:20</td>\n",
       "      <td>6</td>\n",
       "      <td>1/1/2019 2:16</td>\n",
       "    </tr>\n",
       "    <tr>\n",
       "      <th>3</th>\n",
       "      <td>Local365</td>\n",
       "      <td>1/1/2019</td>\n",
       "      <td>13:33:03</td>\n",
       "      <td>6</td>\n",
       "      <td>1/1/2019 13:33</td>\n",
       "    </tr>\n",
       "    <tr>\n",
       "      <th>4</th>\n",
       "      <td>U.T. Student Membership</td>\n",
       "      <td>1/1/2019</td>\n",
       "      <td>14:24:02</td>\n",
       "      <td>6</td>\n",
       "      <td>1/1/2019 14:24</td>\n",
       "    </tr>\n",
       "    <tr>\n",
       "      <th>...</th>\n",
       "      <td>...</td>\n",
       "      <td>...</td>\n",
       "      <td>...</td>\n",
       "      <td>...</td>\n",
       "      <td>...</td>\n",
       "    </tr>\n",
       "    <tr>\n",
       "      <th>342177</th>\n",
       "      <td>Single Trip (Pay-as-you-ride)</td>\n",
       "      <td>3/14/2020</td>\n",
       "      <td>21:43:55</td>\n",
       "      <td>19585</td>\n",
       "      <td>14/03/2020 21:43:55</td>\n",
       "    </tr>\n",
       "    <tr>\n",
       "      <th>342178</th>\n",
       "      <td>Single Trip</td>\n",
       "      <td>8/10/2019</td>\n",
       "      <td>12:55:40</td>\n",
       "      <td>20695</td>\n",
       "      <td>10/8/2019 12:55</td>\n",
       "    </tr>\n",
       "    <tr>\n",
       "      <th>342179</th>\n",
       "      <td>Single Trip</td>\n",
       "      <td>8/15/2019</td>\n",
       "      <td>19:27:18</td>\n",
       "      <td>21197</td>\n",
       "      <td>15/08/2019 19:27:18</td>\n",
       "    </tr>\n",
       "    <tr>\n",
       "      <th>342180</th>\n",
       "      <td>Single Trip (Pay-as-you-ride)</td>\n",
       "      <td>4/11/2020</td>\n",
       "      <td>8:52:26</td>\n",
       "      <td>22993</td>\n",
       "      <td>11/4/2020 8:52</td>\n",
       "    </tr>\n",
       "    <tr>\n",
       "      <th>342181</th>\n",
       "      <td>Single Trip Ride</td>\n",
       "      <td>8/7/2019</td>\n",
       "      <td>22:25:19</td>\n",
       "      <td>34238</td>\n",
       "      <td>7/8/2019 22:25</td>\n",
       "    </tr>\n",
       "  </tbody>\n",
       "</table>\n",
       "<p>342182 rows × 5 columns</p>\n",
       "</div>"
      ],
      "text/plain": [
       "                             usertype Checkout Date Checkout Time  \\\n",
       "0             U.T. Student Membership      1/1/2019      15:44:27   \n",
       "1             U.T. Student Membership      1/1/2019      16:09:50   \n",
       "2             U.T. Student Membership      1/1/2019       2:16:20   \n",
       "3                            Local365      1/1/2019      13:33:03   \n",
       "4             U.T. Student Membership      1/1/2019      14:24:02   \n",
       "...                               ...           ...           ...   \n",
       "342177  Single Trip (Pay-as-you-ride)     3/14/2020      21:43:55   \n",
       "342178                    Single Trip     8/10/2019      12:55:40   \n",
       "342179                    Single Trip     8/15/2019      19:27:18   \n",
       "342180  Single Trip (Pay-as-you-ride)     4/11/2020       8:52:26   \n",
       "342181               Single Trip Ride      8/7/2019      22:25:19   \n",
       "\n",
       "        Trip Duration Minutes           start_time  \n",
       "0                           6       1/1/2019 15:44  \n",
       "1                           6       1/1/2019 16:09  \n",
       "2                           6        1/1/2019 2:16  \n",
       "3                           6       1/1/2019 13:33  \n",
       "4                           6       1/1/2019 14:24  \n",
       "...                       ...                  ...  \n",
       "342177                  19585  14/03/2020 21:43:55  \n",
       "342178                  20695      10/8/2019 12:55  \n",
       "342179                  21197  15/08/2019 19:27:18  \n",
       "342180                  22993       11/4/2020 8:52  \n",
       "342181                  34238       7/8/2019 22:25  \n",
       "\n",
       "[342182 rows x 5 columns]"
      ]
     },
     "execution_count": 2,
     "metadata": {},
     "output_type": "execute_result"
    }
   ],
   "source": [
    "austin\n"
   ]
  },
  {
   "cell_type": "code",
   "execution_count": 3,
   "id": "bfb4054b",
   "metadata": {
    "scrolled": true
   },
   "outputs": [
    {
     "data": {
      "text/plain": [
       "Local365                             81520\n",
       "24 Hour Walk Up Pass                 41078\n",
       "Local31                              38024\n",
       "Student Membership                   27834\n",
       "Explorer                             27755\n",
       "Single Trip (Pay-as-you-ride)        27071\n",
       "Pay-as-you-ride                      24008\n",
       "U.T. Student Membership              23686\n",
       "3-Day Weekender                      15220\n",
       "Single Trip                          13466\n",
       "Local30                               9848\n",
       "3-Day Explorer                        4459\n",
       "Single Trip Ride                      2950\n",
       "Local365+Guest Pass                   2231\n",
       "HT Ram Membership                     1104\n",
       "$1 Pay by Trip Winter Special          532\n",
       "Annual                                 436\n",
       "Local365 Youth (age 13-17 riders)      376\n",
       "Annual Membership                      196\n",
       "ACL 2019 Pass                          194\n",
       "Republic Rider (Annual)                 49\n",
       "Madtown Monthly                         23\n",
       "Annual Pass                             13\n",
       "Aluminum Access                         11\n",
       "Heartland Pass (Annual Pay)              4\n",
       "Annual Pass (30 minute)                  2\n",
       "Annual Plus Membership                   1\n",
       "Heartland Pass (Monthly Pay)             1\n",
       "Name: usertype, dtype: int64"
      ]
     },
     "execution_count": 3,
     "metadata": {},
     "output_type": "execute_result"
    }
   ],
   "source": [
    "austin.usertype.value_counts()"
   ]
  },
  {
   "cell_type": "code",
   "execution_count": 3,
   "id": "f289d056",
   "metadata": {},
   "outputs": [],
   "source": [
    "import pandas as pd \n",
    "chicago = pd.read_csv('chicago_data.csv', low_memory = False)"
   ]
  },
  {
   "cell_type": "code",
   "execution_count": 5,
   "id": "1a309c44",
   "metadata": {
    "scrolled": true
   },
   "outputs": [
    {
     "data": {
      "text/html": [
       "<div>\n",
       "<style scoped>\n",
       "    .dataframe tbody tr th:only-of-type {\n",
       "        vertical-align: middle;\n",
       "    }\n",
       "\n",
       "    .dataframe tbody tr th {\n",
       "        vertical-align: top;\n",
       "    }\n",
       "\n",
       "    .dataframe thead th {\n",
       "        text-align: right;\n",
       "    }\n",
       "</style>\n",
       "<table border=\"1\" class=\"dataframe\">\n",
       "  <thead>\n",
       "    <tr style=\"text-align: right;\">\n",
       "      <th></th>\n",
       "      <th>started_at</th>\n",
       "      <th>ended_at</th>\n",
       "      <th>tripduration</th>\n",
       "      <th>member_casual</th>\n",
       "      <th>rideable_type</th>\n",
       "    </tr>\n",
       "  </thead>\n",
       "  <tbody>\n",
       "    <tr>\n",
       "      <th>0</th>\n",
       "      <td>2019-01-01 00:04:37</td>\n",
       "      <td>2019-01-01 00:11:07</td>\n",
       "      <td>390.0</td>\n",
       "      <td>Subscriber</td>\n",
       "      <td>NaN</td>\n",
       "    </tr>\n",
       "    <tr>\n",
       "      <th>1</th>\n",
       "      <td>2019-01-01 00:08:13</td>\n",
       "      <td>2019-01-01 00:15:34</td>\n",
       "      <td>441.0</td>\n",
       "      <td>Subscriber</td>\n",
       "      <td>NaN</td>\n",
       "    </tr>\n",
       "    <tr>\n",
       "      <th>2</th>\n",
       "      <td>2019-01-01 00:13:23</td>\n",
       "      <td>2019-01-01 00:27:12</td>\n",
       "      <td>829.0</td>\n",
       "      <td>Subscriber</td>\n",
       "      <td>NaN</td>\n",
       "    </tr>\n",
       "    <tr>\n",
       "      <th>3</th>\n",
       "      <td>2019-01-01 00:13:45</td>\n",
       "      <td>2019-01-01 00:43:28</td>\n",
       "      <td>1783.0</td>\n",
       "      <td>Subscriber</td>\n",
       "      <td>NaN</td>\n",
       "    </tr>\n",
       "    <tr>\n",
       "      <th>4</th>\n",
       "      <td>2019-01-01 00:14:52</td>\n",
       "      <td>2019-01-01 00:20:56</td>\n",
       "      <td>364.0</td>\n",
       "      <td>Subscriber</td>\n",
       "      <td>NaN</td>\n",
       "    </tr>\n",
       "    <tr>\n",
       "      <th>...</th>\n",
       "      <td>...</td>\n",
       "      <td>...</td>\n",
       "      <td>...</td>\n",
       "      <td>...</td>\n",
       "      <td>...</td>\n",
       "    </tr>\n",
       "    <tr>\n",
       "      <th>10185316</th>\n",
       "      <td>2021-01-19 19:03:17</td>\n",
       "      <td>2021-01-19 20:10:03</td>\n",
       "      <td>NaN</td>\n",
       "      <td>Subscriber</td>\n",
       "      <td>classic_bike</td>\n",
       "    </tr>\n",
       "    <tr>\n",
       "      <th>10185317</th>\n",
       "      <td>2021-01-05 18:42:27</td>\n",
       "      <td>2021-01-05 19:33:33</td>\n",
       "      <td>NaN</td>\n",
       "      <td>Subscriber</td>\n",
       "      <td>classic_bike</td>\n",
       "    </tr>\n",
       "    <tr>\n",
       "      <th>10185318</th>\n",
       "      <td>2021-01-07 17:59:47</td>\n",
       "      <td>2021-01-07 19:34:03</td>\n",
       "      <td>NaN</td>\n",
       "      <td>Subscriber</td>\n",
       "      <td>classic_bike</td>\n",
       "    </tr>\n",
       "    <tr>\n",
       "      <th>10185319</th>\n",
       "      <td>2021-01-06 19:20:31</td>\n",
       "      <td>2021-01-06 20:41:57</td>\n",
       "      <td>NaN</td>\n",
       "      <td>Subscriber</td>\n",
       "      <td>classic_bike</td>\n",
       "    </tr>\n",
       "    <tr>\n",
       "      <th>10185320</th>\n",
       "      <td>2021-01-17 13:20:02</td>\n",
       "      <td>2021-01-17 14:17:00</td>\n",
       "      <td>NaN</td>\n",
       "      <td>Customer</td>\n",
       "      <td>docked_bike</td>\n",
       "    </tr>\n",
       "  </tbody>\n",
       "</table>\n",
       "<p>10185321 rows × 5 columns</p>\n",
       "</div>"
      ],
      "text/plain": [
       "                   started_at             ended_at  tripduration  \\\n",
       "0         2019-01-01 00:04:37  2019-01-01 00:11:07         390.0   \n",
       "1         2019-01-01 00:08:13  2019-01-01 00:15:34         441.0   \n",
       "2         2019-01-01 00:13:23  2019-01-01 00:27:12         829.0   \n",
       "3         2019-01-01 00:13:45  2019-01-01 00:43:28        1783.0   \n",
       "4         2019-01-01 00:14:52  2019-01-01 00:20:56         364.0   \n",
       "...                       ...                  ...           ...   \n",
       "10185316  2021-01-19 19:03:17  2021-01-19 20:10:03           NaN   \n",
       "10185317  2021-01-05 18:42:27  2021-01-05 19:33:33           NaN   \n",
       "10185318  2021-01-07 17:59:47  2021-01-07 19:34:03           NaN   \n",
       "10185319  2021-01-06 19:20:31  2021-01-06 20:41:57           NaN   \n",
       "10185320  2021-01-17 13:20:02  2021-01-17 14:17:00           NaN   \n",
       "\n",
       "         member_casual rideable_type  \n",
       "0           Subscriber           NaN  \n",
       "1           Subscriber           NaN  \n",
       "2           Subscriber           NaN  \n",
       "3           Subscriber           NaN  \n",
       "4           Subscriber           NaN  \n",
       "...                ...           ...  \n",
       "10185316    Subscriber  classic_bike  \n",
       "10185317    Subscriber  classic_bike  \n",
       "10185318    Subscriber  classic_bike  \n",
       "10185319    Subscriber  classic_bike  \n",
       "10185320      Customer   docked_bike  \n",
       "\n",
       "[10185321 rows x 5 columns]"
      ]
     },
     "execution_count": 5,
     "metadata": {},
     "output_type": "execute_result"
    }
   ],
   "source": [
    "chicago"
   ]
  },
  {
   "cell_type": "code",
   "execution_count": 36,
   "id": "b972eaf3",
   "metadata": {},
   "outputs": [
    {
     "data": {
      "text/plain": [
       "array(['Subscriber', 'Customer'], dtype=object)"
      ]
     },
     "execution_count": 36,
     "metadata": {},
     "output_type": "execute_result"
    }
   ],
   "source": [
    "chicago.member_casual.unique()"
   ]
  },
  {
   "cell_type": "code",
   "execution_count": 37,
   "id": "4cc5dc22",
   "metadata": {},
   "outputs": [],
   "source": [
    "chicago.to_csv(r'C:\\Users\\marii\\OneDrive\\Desktop\\SCHOOL\\CSE 696 Final Project\\Main Data\\chicago_data.csv',index = False)"
   ]
  },
  {
   "cell_type": "code",
   "execution_count": 23,
   "id": "5d6fe095",
   "metadata": {},
   "outputs": [],
   "source": [
    "chicago_data.loc[chicago_data.member_casual == 'member','member_casual'] = 'Subscriber'"
   ]
  },
  {
   "cell_type": "code",
   "execution_count": 24,
   "id": "07097f83",
   "metadata": {},
   "outputs": [],
   "source": [
    "chicago_data.loc[chicago_data.member_casual == 'casual','member_casual'] = 'Customer'"
   ]
  },
  {
   "cell_type": "code",
   "execution_count": 25,
   "id": "cb691ddb",
   "metadata": {},
   "outputs": [
    {
     "ename": "AttributeError",
     "evalue": "'DataFrame' object has no attribute 'member_casual'",
     "output_type": "error",
     "traceback": [
      "\u001b[1;31m---------------------------------------------------------------------------\u001b[0m",
      "\u001b[1;31mAttributeError\u001b[0m                            Traceback (most recent call last)",
      "\u001b[1;32m~\\AppData\\Local\\Temp/ipykernel_19700/4119035067.py\u001b[0m in \u001b[0;36m<module>\u001b[1;34m\u001b[0m\n\u001b[0;32m      1\u001b[0m \u001b[1;31m#chicago.member_casual.unique()\u001b[0m\u001b[1;33m\u001b[0m\u001b[1;33m\u001b[0m\u001b[0m\n\u001b[1;32m----> 2\u001b[1;33m \u001b[0mchicago\u001b[0m\u001b[1;33m.\u001b[0m\u001b[0mmember_casual\u001b[0m\u001b[1;33m.\u001b[0m\u001b[0mvalue_counts\u001b[0m\u001b[1;33m(\u001b[0m\u001b[1;33m)\u001b[0m\u001b[1;33m\u001b[0m\u001b[1;33m\u001b[0m\u001b[0m\n\u001b[0m",
      "\u001b[1;32m~\\anaconda3\\lib\\site-packages\\pandas\\core\\generic.py\u001b[0m in \u001b[0;36m__getattr__\u001b[1;34m(self, name)\u001b[0m\n\u001b[0;32m   5485\u001b[0m         ):\n\u001b[0;32m   5486\u001b[0m             \u001b[1;32mreturn\u001b[0m \u001b[0mself\u001b[0m\u001b[1;33m[\u001b[0m\u001b[0mname\u001b[0m\u001b[1;33m]\u001b[0m\u001b[1;33m\u001b[0m\u001b[1;33m\u001b[0m\u001b[0m\n\u001b[1;32m-> 5487\u001b[1;33m         \u001b[1;32mreturn\u001b[0m \u001b[0mobject\u001b[0m\u001b[1;33m.\u001b[0m\u001b[0m__getattribute__\u001b[0m\u001b[1;33m(\u001b[0m\u001b[0mself\u001b[0m\u001b[1;33m,\u001b[0m \u001b[0mname\u001b[0m\u001b[1;33m)\u001b[0m\u001b[1;33m\u001b[0m\u001b[1;33m\u001b[0m\u001b[0m\n\u001b[0m\u001b[0;32m   5488\u001b[0m \u001b[1;33m\u001b[0m\u001b[0m\n\u001b[0;32m   5489\u001b[0m     \u001b[1;32mdef\u001b[0m \u001b[0m__setattr__\u001b[0m\u001b[1;33m(\u001b[0m\u001b[0mself\u001b[0m\u001b[1;33m,\u001b[0m \u001b[0mname\u001b[0m\u001b[1;33m:\u001b[0m \u001b[0mstr\u001b[0m\u001b[1;33m,\u001b[0m \u001b[0mvalue\u001b[0m\u001b[1;33m)\u001b[0m \u001b[1;33m->\u001b[0m \u001b[1;32mNone\u001b[0m\u001b[1;33m:\u001b[0m\u001b[1;33m\u001b[0m\u001b[1;33m\u001b[0m\u001b[0m\n",
      "\u001b[1;31mAttributeError\u001b[0m: 'DataFrame' object has no attribute 'member_casual'"
     ]
    }
   ],
   "source": [
    "#chicago.member_casual.unique()\n",
    "chicago.member_casual.value_counts()"
   ]
  },
  {
   "cell_type": "code",
   "execution_count": 22,
   "id": "714c483d",
   "metadata": {},
   "outputs": [
    {
     "data": {
      "text/plain": [
       "0            True\n",
       "1            True\n",
       "2            True\n",
       "3            True\n",
       "4            True\n",
       "            ...  \n",
       "10185316    False\n",
       "10185317    False\n",
       "10185318    False\n",
       "10185319    False\n",
       "10185320    False\n",
       "Name: rideable_type, Length: 10185321, dtype: bool"
      ]
     },
     "execution_count": 22,
     "metadata": {},
     "output_type": "execute_result"
    }
   ],
   "source": [
    "chicago.rideable_type.value_counts()"
   ]
  },
  {
   "cell_type": "code",
   "execution_count": 21,
   "id": "c40854dc",
   "metadata": {
    "scrolled": false
   },
   "outputs": [
    {
     "data": {
      "text/plain": [
       "started_at        0.000000\n",
       "ended_at          0.000000\n",
       "tripduration     89.705037\n",
       "member_casual     0.000000\n",
       "gender           90.940629\n",
       "birthyear        90.896536\n",
       "rideable_type    10.294963\n",
       "dtype: float64"
      ]
     },
     "execution_count": 21,
     "metadata": {},
     "output_type": "execute_result"
    }
   ],
   "source": [
    "per_mis1 = chicago_data.isna().sum()*100/len(chicago_data)\n",
    "per_mis1"
   ]
  },
  {
   "cell_type": "code",
   "execution_count": 10,
   "id": "0d56f622",
   "metadata": {},
   "outputs": [
    {
     "ename": "AttributeError",
     "evalue": "'Series' object has no attribute 'info'",
     "output_type": "error",
     "traceback": [
      "\u001b[1;31m---------------------------------------------------------------------------\u001b[0m",
      "\u001b[1;31mAttributeError\u001b[0m                            Traceback (most recent call last)",
      "\u001b[1;32m~\\AppData\\Local\\Temp/ipykernel_2188/645513582.py\u001b[0m in \u001b[0;36m<module>\u001b[1;34m\u001b[0m\n\u001b[1;32m----> 1\u001b[1;33m \u001b[0mchicago\u001b[0m\u001b[1;33m.\u001b[0m\u001b[0mended_at\u001b[0m\u001b[1;33m.\u001b[0m\u001b[0minfo\u001b[0m\u001b[1;33m(\u001b[0m\u001b[1;33m)\u001b[0m\u001b[1;33m\u001b[0m\u001b[1;33m\u001b[0m\u001b[0m\n\u001b[0m",
      "\u001b[1;32m~\\anaconda3\\lib\\site-packages\\pandas\\core\\generic.py\u001b[0m in \u001b[0;36m__getattr__\u001b[1;34m(self, name)\u001b[0m\n\u001b[0;32m   5485\u001b[0m         ):\n\u001b[0;32m   5486\u001b[0m             \u001b[1;32mreturn\u001b[0m \u001b[0mself\u001b[0m\u001b[1;33m[\u001b[0m\u001b[0mname\u001b[0m\u001b[1;33m]\u001b[0m\u001b[1;33m\u001b[0m\u001b[1;33m\u001b[0m\u001b[0m\n\u001b[1;32m-> 5487\u001b[1;33m         \u001b[1;32mreturn\u001b[0m \u001b[0mobject\u001b[0m\u001b[1;33m.\u001b[0m\u001b[0m__getattribute__\u001b[0m\u001b[1;33m(\u001b[0m\u001b[0mself\u001b[0m\u001b[1;33m,\u001b[0m \u001b[0mname\u001b[0m\u001b[1;33m)\u001b[0m\u001b[1;33m\u001b[0m\u001b[1;33m\u001b[0m\u001b[0m\n\u001b[0m\u001b[0;32m   5488\u001b[0m \u001b[1;33m\u001b[0m\u001b[0m\n\u001b[0;32m   5489\u001b[0m     \u001b[1;32mdef\u001b[0m \u001b[0m__setattr__\u001b[0m\u001b[1;33m(\u001b[0m\u001b[0mself\u001b[0m\u001b[1;33m,\u001b[0m \u001b[0mname\u001b[0m\u001b[1;33m:\u001b[0m \u001b[0mstr\u001b[0m\u001b[1;33m,\u001b[0m \u001b[0mvalue\u001b[0m\u001b[1;33m)\u001b[0m \u001b[1;33m->\u001b[0m \u001b[1;32mNone\u001b[0m\u001b[1;33m:\u001b[0m\u001b[1;33m\u001b[0m\u001b[1;33m\u001b[0m\u001b[0m\n",
      "\u001b[1;31mAttributeError\u001b[0m: 'Series' object has no attribute 'info'"
     ]
    }
   ],
   "source": [
    "chicago.ended_at.info()"
   ]
  },
  {
   "cell_type": "code",
   "execution_count": 7,
   "id": "27c165a4",
   "metadata": {},
   "outputs": [
    {
     "ename": "TypeError",
     "evalue": "cannot convert the series to <class 'int'>",
     "output_type": "error",
     "traceback": [
      "\u001b[1;31m---------------------------------------------------------------------------\u001b[0m",
      "\u001b[1;31mTypeError\u001b[0m                                 Traceback (most recent call last)",
      "\u001b[1;32m~\\AppData\\Local\\Temp/ipykernel_2188/1745775418.py\u001b[0m in \u001b[0;36m<module>\u001b[1;34m\u001b[0m\n\u001b[1;32m----> 1\u001b[1;33m \u001b[0mchicago\u001b[0m\u001b[1;33m.\u001b[0m\u001b[0mduration\u001b[0m \u001b[1;33m=\u001b[0m \u001b[1;33m(\u001b[0m\u001b[0mint\u001b[0m\u001b[1;33m(\u001b[0m\u001b[0mchicago\u001b[0m\u001b[1;33m.\u001b[0m\u001b[0mended_at\u001b[0m\u001b[1;33m)\u001b[0m \u001b[1;33m-\u001b[0m \u001b[0mint\u001b[0m\u001b[1;33m(\u001b[0m\u001b[0mchicago\u001b[0m\u001b[1;33m.\u001b[0m\u001b[0mstarted_at\u001b[0m\u001b[1;33m)\u001b[0m\u001b[1;33m)\u001b[0m\u001b[1;33m.\u001b[0m\u001b[0mastype\u001b[0m\u001b[1;33m(\u001b[0m\u001b[1;34m'timedelta64[h]'\u001b[0m\u001b[1;33m)\u001b[0m\u001b[1;33m\u001b[0m\u001b[1;33m\u001b[0m\u001b[0m\n\u001b[0m",
      "\u001b[1;32m~\\anaconda3\\lib\\site-packages\\pandas\\core\\series.py\u001b[0m in \u001b[0;36mwrapper\u001b[1;34m(self)\u001b[0m\n\u001b[0;32m    183\u001b[0m         \u001b[1;32mif\u001b[0m \u001b[0mlen\u001b[0m\u001b[1;33m(\u001b[0m\u001b[0mself\u001b[0m\u001b[1;33m)\u001b[0m \u001b[1;33m==\u001b[0m \u001b[1;36m1\u001b[0m\u001b[1;33m:\u001b[0m\u001b[1;33m\u001b[0m\u001b[1;33m\u001b[0m\u001b[0m\n\u001b[0;32m    184\u001b[0m             \u001b[1;32mreturn\u001b[0m \u001b[0mconverter\u001b[0m\u001b[1;33m(\u001b[0m\u001b[0mself\u001b[0m\u001b[1;33m.\u001b[0m\u001b[0miloc\u001b[0m\u001b[1;33m[\u001b[0m\u001b[1;36m0\u001b[0m\u001b[1;33m]\u001b[0m\u001b[1;33m)\u001b[0m\u001b[1;33m\u001b[0m\u001b[1;33m\u001b[0m\u001b[0m\n\u001b[1;32m--> 185\u001b[1;33m         \u001b[1;32mraise\u001b[0m \u001b[0mTypeError\u001b[0m\u001b[1;33m(\u001b[0m\u001b[1;34mf\"cannot convert the series to {converter}\"\u001b[0m\u001b[1;33m)\u001b[0m\u001b[1;33m\u001b[0m\u001b[1;33m\u001b[0m\u001b[0m\n\u001b[0m\u001b[0;32m    186\u001b[0m \u001b[1;33m\u001b[0m\u001b[0m\n\u001b[0;32m    187\u001b[0m     \u001b[0mwrapper\u001b[0m\u001b[1;33m.\u001b[0m\u001b[0m__name__\u001b[0m \u001b[1;33m=\u001b[0m \u001b[1;34mf\"__{converter.__name__}__\"\u001b[0m\u001b[1;33m\u001b[0m\u001b[1;33m\u001b[0m\u001b[0m\n",
      "\u001b[1;31mTypeError\u001b[0m: cannot convert the series to <class 'int'>"
     ]
    }
   ],
   "source": [
    "chicago.duration = (int(chicago.ended_at) - int(chicago.started_at)).astype('timedelta64[h]')"
   ]
  }
 ],
 "metadata": {
  "kernelspec": {
   "display_name": "Python 3 (ipykernel)",
   "language": "python",
   "name": "python3"
  },
  "language_info": {
   "codemirror_mode": {
    "name": "ipython",
    "version": 3
   },
   "file_extension": ".py",
   "mimetype": "text/x-python",
   "name": "python",
   "nbconvert_exporter": "python",
   "pygments_lexer": "ipython3",
   "version": "3.9.7"
  }
 },
 "nbformat": 4,
 "nbformat_minor": 5
}
